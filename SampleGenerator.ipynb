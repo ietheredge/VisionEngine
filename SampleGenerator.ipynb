{
 "cells": [
  {
   "cell_type": "code",
   "execution_count": 45,
   "metadata": {},
   "outputs": [],
   "source": [
    "from PIL import Image\n",
    "import glob\n",
    "from itertools import product\n",
    "import numpy as np"
   ]
  },
  {
   "cell_type": "code",
   "execution_count": 54,
   "metadata": {},
   "outputs": [],
   "source": [
    "n_trv_exmp=10\n",
    "n_trv_stps=10"
   ]
  },
  {
   "cell_type": "code",
   "execution_count": 66,
   "metadata": {},
   "outputs": [],
   "source": [
    "folder = '*samples'"
   ]
  },
  {
   "cell_type": "code",
   "execution_count": 67,
   "metadata": {},
   "outputs": [],
   "source": [
    "files = glob.glob('/home/etheredge/Workspace/infoGAN/{}/*.png'.format(folder))\n",
    "files = np.random.choice(files, n_trv_exmp*n_trv_stps)"
   ]
  },
  {
   "cell_type": "code",
   "execution_count": 68,
   "metadata": {},
   "outputs": [
    {
     "data": {
      "text/plain": [
       "array(['/home/etheredge/Workspace/infoGAN/test_outputs_3_samples/00807.png',\n",
       "       '/home/etheredge/Workspace/infoGAN/test_outputs_7_samples/00069.png',\n",
       "       '/home/etheredge/Workspace/infoGAN/test_outputs_1_samples/00280.png',\n",
       "       '/home/etheredge/Workspace/infoGAN/test_outputs_5_samples/00590.png',\n",
       "       '/home/etheredge/Workspace/infoGAN/test_outputs_6_samples/00613.png',\n",
       "       '/home/etheredge/Workspace/infoGAN/test_outputs_7_samples/00429.png',\n",
       "       '/home/etheredge/Workspace/infoGAN/test_outputs_10_samples/00825.png',\n",
       "       '/home/etheredge/Workspace/infoGAN/test_outputs_4_samples/00147.png',\n",
       "       '/home/etheredge/Workspace/infoGAN/test_outputs_6_samples/00430.png',\n",
       "       '/home/etheredge/Workspace/infoGAN/test_outputs_8_samples/00665.png',\n",
       "       '/home/etheredge/Workspace/infoGAN/test_outputs_8_samples/00057.png',\n",
       "       '/home/etheredge/Workspace/infoGAN/test_outputs_1_samples/00188.png',\n",
       "       '/home/etheredge/Workspace/infoGAN/test_outputs_3_samples/00405.png',\n",
       "       '/home/etheredge/Workspace/infoGAN/test_outputs_0_samples/00394.png',\n",
       "       '/home/etheredge/Workspace/infoGAN/test_outputs_7_samples/00690.png',\n",
       "       '/home/etheredge/Workspace/infoGAN/test_outputs_8_samples/00393.png',\n",
       "       '/home/etheredge/Workspace/infoGAN/test_outputs_0_samples/00325.png',\n",
       "       '/home/etheredge/Workspace/infoGAN/test_outputs_12_samples/00122.png',\n",
       "       '/home/etheredge/Workspace/infoGAN/test_outputs_7_samples/00654.png',\n",
       "       '/home/etheredge/Workspace/infoGAN/test_outputs_1_samples/00925.png',\n",
       "       '/home/etheredge/Workspace/infoGAN/test_outputs_6_samples/00420.png',\n",
       "       '/home/etheredge/Workspace/infoGAN/test_outputs_5_samples/00438.png',\n",
       "       '/home/etheredge/Workspace/infoGAN/test_outputs_6_samples/00130.png',\n",
       "       '/home/etheredge/Workspace/infoGAN/test_outputs_8_samples/00863.png',\n",
       "       '/home/etheredge/Workspace/infoGAN/test_outputs_11_samples/00915.png',\n",
       "       '/home/etheredge/Workspace/infoGAN/test_outputs_1_samples/00448.png',\n",
       "       '/home/etheredge/Workspace/infoGAN/test_outputs_1_samples/00188.png',\n",
       "       '/home/etheredge/Workspace/infoGAN/test_outputs_1_samples/00556.png',\n",
       "       '/home/etheredge/Workspace/infoGAN/test_outputs_1_samples/00327.png',\n",
       "       '/home/etheredge/Workspace/infoGAN/test_outputs_3_samples/00442.png',\n",
       "       '/home/etheredge/Workspace/infoGAN/test_outputs_3_samples/00015.png',\n",
       "       '/home/etheredge/Workspace/infoGAN/test_outputs_4_samples/00699.png',\n",
       "       '/home/etheredge/Workspace/infoGAN/test_outputs_6_samples/00633.png',\n",
       "       '/home/etheredge/Workspace/infoGAN/test_outputs_8_samples/00205.png',\n",
       "       '/home/etheredge/Workspace/infoGAN/test_outputs_8_samples/00901.png',\n",
       "       '/home/etheredge/Workspace/infoGAN/test_outputs_7_samples/00753.png',\n",
       "       '/home/etheredge/Workspace/infoGAN/test_outputs_1_samples/00871.png',\n",
       "       '/home/etheredge/Workspace/infoGAN/test_outputs_0_samples/00074.png',\n",
       "       '/home/etheredge/Workspace/infoGAN/test_outputs_10_samples/00428.png',\n",
       "       '/home/etheredge/Workspace/infoGAN/test_outputs_8_samples/00049.png',\n",
       "       '/home/etheredge/Workspace/infoGAN/test_outputs_2_samples/00686.png',\n",
       "       '/home/etheredge/Workspace/infoGAN/test_outputs_8_samples/00508.png',\n",
       "       '/home/etheredge/Workspace/infoGAN/test_outputs_3_samples/00374.png',\n",
       "       '/home/etheredge/Workspace/infoGAN/test_outputs_2_samples/00954.png',\n",
       "       '/home/etheredge/Workspace/infoGAN/test_outputs_2_samples/00397.png',\n",
       "       '/home/etheredge/Workspace/infoGAN/test_outputs_9_samples/00047.png',\n",
       "       '/home/etheredge/Workspace/infoGAN/test_outputs_3_samples/00111.png',\n",
       "       '/home/etheredge/Workspace/infoGAN/test_outputs_11_samples/00102.png',\n",
       "       '/home/etheredge/Workspace/infoGAN/test_outputs_3_samples/00275.png',\n",
       "       '/home/etheredge/Workspace/infoGAN/test_outputs_7_samples/00107.png',\n",
       "       '/home/etheredge/Workspace/infoGAN/test_outputs_12_samples/00035.png',\n",
       "       '/home/etheredge/Workspace/infoGAN/test_outputs_3_samples/00499.png',\n",
       "       '/home/etheredge/Workspace/infoGAN/test_outputs_11_samples/00314.png',\n",
       "       '/home/etheredge/Workspace/infoGAN/test_outputs_4_samples/00439.png',\n",
       "       '/home/etheredge/Workspace/infoGAN/test_outputs_11_samples/00776.png',\n",
       "       '/home/etheredge/Workspace/infoGAN/test_outputs_0_samples/00938.png',\n",
       "       '/home/etheredge/Workspace/infoGAN/test_outputs_5_samples/00913.png',\n",
       "       '/home/etheredge/Workspace/infoGAN/test_outputs_12_samples/00045.png',\n",
       "       '/home/etheredge/Workspace/infoGAN/test_outputs_10_samples/00067.png',\n",
       "       '/home/etheredge/Workspace/infoGAN/test_outputs_1_samples/00873.png',\n",
       "       '/home/etheredge/Workspace/infoGAN/test_outputs_3_samples/00412.png',\n",
       "       '/home/etheredge/Workspace/infoGAN/test_outputs_3_samples/00678.png',\n",
       "       '/home/etheredge/Workspace/infoGAN/test_outputs_3_samples/00895.png',\n",
       "       '/home/etheredge/Workspace/infoGAN/test_outputs_9_samples/00996.png',\n",
       "       '/home/etheredge/Workspace/infoGAN/test_outputs_6_samples/00226.png',\n",
       "       '/home/etheredge/Workspace/infoGAN/test_outputs_3_samples/00506.png',\n",
       "       '/home/etheredge/Workspace/infoGAN/test_outputs_12_samples/00782.png',\n",
       "       '/home/etheredge/Workspace/infoGAN/test_outputs_0_samples/00836.png',\n",
       "       '/home/etheredge/Workspace/infoGAN/test_outputs_1_samples/00120.png',\n",
       "       '/home/etheredge/Workspace/infoGAN/test_outputs_12_samples/00210.png',\n",
       "       '/home/etheredge/Workspace/infoGAN/test_outputs_4_samples/00026.png',\n",
       "       '/home/etheredge/Workspace/infoGAN/test_outputs_2_samples/00353.png',\n",
       "       '/home/etheredge/Workspace/infoGAN/test_outputs_3_samples/00971.png',\n",
       "       '/home/etheredge/Workspace/infoGAN/test_outputs_3_samples/00321.png',\n",
       "       '/home/etheredge/Workspace/infoGAN/test_outputs_10_samples/00118.png',\n",
       "       '/home/etheredge/Workspace/infoGAN/test_outputs_4_samples/00132.png',\n",
       "       '/home/etheredge/Workspace/infoGAN/test_outputs_1_samples/00381.png',\n",
       "       '/home/etheredge/Workspace/infoGAN/test_outputs_12_samples/00635.png',\n",
       "       '/home/etheredge/Workspace/infoGAN/test_outputs_1_samples/00015.png',\n",
       "       '/home/etheredge/Workspace/infoGAN/test_outputs_11_samples/00799.png',\n",
       "       '/home/etheredge/Workspace/infoGAN/test_outputs_1_samples/00789.png',\n",
       "       '/home/etheredge/Workspace/infoGAN/test_outputs_5_samples/00842.png',\n",
       "       '/home/etheredge/Workspace/infoGAN/test_outputs_6_samples/00166.png',\n",
       "       '/home/etheredge/Workspace/infoGAN/test_outputs_2_samples/00739.png',\n",
       "       '/home/etheredge/Workspace/infoGAN/test_outputs_7_samples/00129.png',\n",
       "       '/home/etheredge/Workspace/infoGAN/test_outputs_0_samples/00527.png',\n",
       "       '/home/etheredge/Workspace/infoGAN/test_outputs_2_samples/00291.png',\n",
       "       '/home/etheredge/Workspace/infoGAN/test_outputs_7_samples/00377.png',\n",
       "       '/home/etheredge/Workspace/infoGAN/test_outputs_0_samples/00147.png',\n",
       "       '/home/etheredge/Workspace/infoGAN/test_outputs_6_samples/00898.png',\n",
       "       '/home/etheredge/Workspace/infoGAN/test_outputs_8_samples/00797.png',\n",
       "       '/home/etheredge/Workspace/infoGAN/test_outputs_10_samples/00950.png',\n",
       "       '/home/etheredge/Workspace/infoGAN/test_outputs_1_samples/00098.png',\n",
       "       '/home/etheredge/Workspace/infoGAN/test_outputs_12_samples/00494.png',\n",
       "       '/home/etheredge/Workspace/infoGAN/test_outputs_9_samples/00996.png',\n",
       "       '/home/etheredge/Workspace/infoGAN/test_outputs_6_samples/00229.png',\n",
       "       '/home/etheredge/Workspace/infoGAN/test_outputs_1_samples/00923.png',\n",
       "       '/home/etheredge/Workspace/infoGAN/test_outputs_0_samples/00096.png',\n",
       "       '/home/etheredge/Workspace/infoGAN/test_outputs_1_samples/00759.png',\n",
       "       '/home/etheredge/Workspace/infoGAN/test_outputs_6_samples/00502.png'],\n",
       "      dtype='<U67')"
      ]
     },
     "execution_count": 68,
     "metadata": {},
     "output_type": "execute_result"
    }
   ],
   "source": [
    "files"
   ]
  },
  {
   "cell_type": "code",
   "execution_count": 69,
   "metadata": {},
   "outputs": [],
   "source": [
    "exim = Image.open(files[0])"
   ]
  },
  {
   "cell_type": "code",
   "execution_count": 70,
   "metadata": {},
   "outputs": [],
   "source": [
    "trav1 = Image.new('RGB', (exim.width*n_trv_stps,exim.height*n_trv_exmp))\n",
    "locs = list(product(range(n_trv_exmp),range(n_trv_stps)))\n",
    "for i, file in enumerate(files):\n",
    "    j, k = locs[i]\n",
    "    trav1.paste(Image.open(file), (k*exim.width, j*exim.height))\n",
    "trav1.save('infoGANclass{}.jpg'.format(folder))\n"
   ]
  },
  {
   "cell_type": "code",
   "execution_count": null,
   "metadata": {},
   "outputs": [],
   "source": []
  },
  {
   "cell_type": "code",
   "execution_count": null,
   "metadata": {},
   "outputs": [],
   "source": []
  },
  {
   "cell_type": "code",
   "execution_count": null,
   "metadata": {},
   "outputs": [],
   "source": []
  },
  {
   "cell_type": "code",
   "execution_count": 1,
   "metadata": {},
   "outputs": [],
   "source": [
    "import matplotlib.pyplot as plt\n",
    "from matplotlib.offsetbox import OffsetImage, AnnotationBbox\n",
    "plt.clf()\n",
    "plt.style.use('classic')\n",
    "plt.rcParams.update({'font.size': 30})\n",
    "def imscatter(x, y, image, ax=None, zoom=1):\n",
    "    if ax is None:\n",
    "        ax = plt.gca()\n",
    "    try:\n",
    "        image = plt.imread(image)\n",
    "    except TypeError:\n",
    "        # Likely already an array...\n",
    "        pass\n",
    "    x, y = np.atleast_1d(x, y)\n",
    "    artists = []\n",
    "    for i, (x0, y0) in enumerate(zip(x, y)):\n",
    "        im = OffsetImage(image[i], zoom=zoom)\n",
    "        ab = AnnotationBbox(im, (x0, y0), xycoords='data', frameon=False)\n",
    "        artists.append(ax.add_artist(ab))\n",
    "    ax.update_datalim(np.column_stack([x, y]))\n",
    "    ax.autoscale()\n",
    "    ax.grid(False)\n",
    "    return artists"
   ]
  },
  {
   "cell_type": "code",
   "execution_count": null,
   "metadata": {},
   "outputs": [],
   "source": [
    "images = np.load('/home/etheredge/Workspace/VLAE/images.npy')"
   ]
  },
  {
   "cell_type": "code",
   "execution_count": null,
   "metadata": {},
   "outputs": [],
   "source": [
    "fig, ax = plt.subplots(figsize=(25,25))\n",
    "Y = np.array(Y)\n",
    "classnames, indices = np.unique(Y, return_inverse=True)\n",
    "N = len(classnames)\n",
    "ax = plt.subplot(1,1,1)\n",
    "cmap = plt.cm.rainbow\n",
    "bounds = np.linspace(0,N,N+1)\n",
    "norm = mpl.colors.BoundaryNorm(bounds, cmap.N)\n",
    "imscatter(embedding[:, 0], embedding[:, 1], images, zoom=0.08, ax=ax)"
   ]
  }
 ],
 "metadata": {
  "kernelspec": {
   "display_name": "Python 3",
   "language": "python",
   "name": "python3"
  },
  "language_info": {
   "codemirror_mode": {
    "name": "ipython",
    "version": 3
   },
   "file_extension": ".py",
   "mimetype": "text/x-python",
   "name": "python",
   "nbconvert_exporter": "python",
   "pygments_lexer": "ipython3",
   "version": "3.7.5"
  }
 },
 "nbformat": 4,
 "nbformat_minor": 2
}
