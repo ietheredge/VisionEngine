{
 "cells": [
  {
   "cell_type": "code",
   "execution_count": null,
   "metadata": {},
   "outputs": [],
   "source": [
    "from VisionEngine.datasets import guppies\n",
    "from VisionEngine.utils.config import process_config\n",
    "from VisionEngine.utils import factory\n",
    "from VisionEngine.utils.eval import embed_images\n",
    "from VisionEngine.extensions import latent_evolution\n",
    "from VisionEngin.plotting import visualize_generation\n",
    "\n",
    "import os\n",
    "from dotenv import load_dotenv\n",
    "from pathlib import Path\n",
    "\n",
    "import numpy as np\n",
    "import tensorflow as tf"
   ]
  },
  {
   "cell_type": "code",
   "execution_count": null,
   "metadata": {},
   "outputs": [],
   "source": [
    "# If you only have one GPU, this must = 0\n",
    "GPU = 0"
   ]
  },
  {
   "cell_type": "code",
   "execution_count": null,
   "metadata": {},
   "outputs": [],
   "source": [
    "env_path = Path('../') / '.env'\n",
    "load_dotenv(dotenv_path=env_path)"
   ]
  },
  {
   "cell_type": "markdown",
   "metadata": {},
   "source": [
    "**Setup the model and data loader**"
   ]
  },
  {
   "cell_type": "code",
   "execution_count": null,
   "metadata": {},
   "outputs": [],
   "source": [
    "checkpoint_path = os.path.join(\n",
    "    os.getenv(\"VISIONENGINE_HOME\"),\n",
    "    \"checkpoints/guppies_DHRL_model.hdf5\"\n",
    ")\n",
    "config_file = os.path.join(\n",
    "    os.getenv(\"VISIONENGINE_HOME\"),\n",
    "    \"VisionEngine/configs/guppies_DHRL_config.json\"\n",
    ")"
   ]
  },
  {
   "cell_type": "code",
   "execution_count": null,
   "metadata": {},
   "outputs": [],
   "source": [
    "config = process_config(config_file)"
   ]
  },
  {
   "cell_type": "code",
   "execution_count": null,
   "metadata": {},
   "outputs": [],
   "source": [
    "data_loader = factory.create(\n",
    "            \"VisionEngine.data_loaders.\"+config.data_loader.name\n",
    "            )(config)"
   ]
  },
  {
   "cell_type": "code",
   "execution_count": null,
   "metadata": {},
   "outputs": [],
   "source": [
    "with tf.device(f\"GPU:{GPU}\"):\n",
    "    model = factory.create(\n",
    "                \"VisionEngine.models.\"+config.model.name\n",
    "                )(config)\n",
    "    model.load(checkpoint_path)\n",
    "    model.trainable = False"
   ]
  },
  {
   "cell_type": "code",
   "execution_count": null,
   "metadata": {},
   "outputs": [],
   "source": [
    "data_loader = factory.create(\n",
    "            \"VisionEngine.data_loaders.\"+config.data_loader.name\n",
    "            )(config)"
   ]
  },
  {
   "cell_type": "markdown",
   "metadata": {},
   "source": [
    "**Take a random sample as a starting population**"
   ]
  },
  {
   "cell_type": "code",
   "execution_count": null,
   "metadata": {
    "scrolled": true
   },
   "outputs": [],
   "source": [
    "with tf.device(f\"GPU:{GPU}\"):\n",
    "    parents_orig = []\n",
    "    for image, label in data_loader.get_test_data():\n",
    "        parents_orig.append(image.numpy())\n",
    "    parents_orig = np.vstack(parents_orig)\n",
    "    parents = embed_images(data_loader.get_test_data(), model)\n",
    "    parents = tf.transpose(tf.Variable(parents), (1,0,2))\n",
    "    parents = parents[:900]"
   ]
  },
  {
   "cell_type": "markdown",
   "metadata": {},
   "source": [
    "**Simulate generations**\n",
    "\n",
    "*See: VisionEnging.extensions.evolve_population*"
   ]
  },
  {
   "cell_type": "code",
   "execution_count": null,
   "metadata": {
    "scrolled": false
   },
   "outputs": [],
   "source": [
    "with tf.device(f\"GPU:{GPU}\"):\n",
    "    parent_record = evolve_population(parents, model, parents_orig, \n",
    "                                      temperature=0.2, persistence=0.5,\n",
    "                                      mutation_per = 0.1, N_GENERATIONS = 500, \n",
    "                                      POPULATION_SIZE = 1000, BATCH_SIZE = 100):\n",
    "    pr = np.stack(parent_record[1:]).reshape(500,1000, 40) \n",
    "    gens = TSNE(callbacks=ErrorLogger(), n_jobs=8).fit(pr)"
   ]
  },
  {
   "cell_type": "markdown",
   "metadata": {},
   "source": [
    "**Visulaize generations and alleles**"
   ]
  },
  {
   "cell_type": "code",
   "execution_count": null,
   "metadata": {},
   "outputs": [],
   "source": [
    "with tf.device(f\"GPU:{GPU}\"):\n",
    "    generation = visualize_generation(generation, parent_record)"
   ]
  },
  {
   "cell_type": "code",
   "execution_count": null,
   "metadata": {},
   "outputs": [],
   "source": [
    "plt.imshow(generation)"
   ]
  }
 ],
 "metadata": {
  "kernelspec": {
   "display_name": "Python 3.7.6 64-bit ('VisionEngine': conda)",
   "language": "python",
   "name": "python37664bitvisionengineconda838d932a94804d329f926ede73ba6fa3"
  },
  "language_info": {
   "codemirror_mode": {
    "name": "ipython",
    "version": 3
   },
   "file_extension": ".py",
   "mimetype": "text/x-python",
   "name": "python",
   "nbconvert_exporter": "python",
   "pygments_lexer": "ipython3",
   "version": "3.7.6"
  }
 },
 "nbformat": 4,
 "nbformat_minor": 4
}
