{
 "cells": [
  {
   "cell_type": "code",
   "execution_count": 1,
   "metadata": {},
   "outputs": [],
   "source": [
    "import tensorflow as tf"
   ]
  },
  {
   "cell_type": "code",
   "execution_count": null,
   "metadata": {},
   "outputs": [],
   "source": [
    "def encoder_residual_cell(x, r=16):\n",
    "    C = x.shape[1]\n",
    "    cell = tf.keras.Sequential([\n",
    "        tf.keras.layers.BatchNormalization(),\n",
    "        tf.keras.layers.Conv2D(\n",
    "            C,\n",
    "            kernel_size=3,\n",
    "            padding='same',\n",
    "            use_bias=False,\n",
    "            activation=None),\n",
    "        tf.keras.layers.BatchNormalization(),\n",
    "        tf.keras.layers.Activation('swish'),\n",
    "        tf.keras.layers.Conv2D(\n",
    "            C,\n",
    "            kernel_size=3,\n",
    "            padding='same',\n",
    "            use_bias=False,\n",
    "            activation=None),\n",
    "        tf.keras.layers.GlobalAveragePooling2D(),\n",
    "        tf.keras.layers.Reshape(1,1,C)\n",
    "        tf.keras.layers.Dense(int(C/r)),\n",
    "        tf.keras.layers.Activation('relu'),\n",
    "        tf.keras.layers.Dense(C),\n",
    "        tf.keras.layers.Activation('sigmoid')]\n",
    "    return cell(x)\n",
    "\n",
    "def generator_residual_cell(x, E=6, r=16):\n",
    "    C = x.shape[1]\n",
    "    cell = tf.keras.Sequential([\n",
    "        tf.keras.layers.BatchNormalization(),\n",
    "        tf.keras.layers.Conv2D(\n",
    "            C * E,\n",
    "            kernel_size=1,\n",
    "            padding='same',\n",
    "            use_bias=False,\n",
    "            activation=None),\n",
    "        tf.keras.layers.BatchNormalization(),\n",
    "        tf.keras.layers.Activation('swish'),\n",
    "        tf.keras.layers.DepthwiseConv2D(\n",
    "            kernel_size=5,\n",
    "            stride=1),\n",
    "        tf.keras.layers.BatchNormalization(),\n",
    "        tf.keras.layers.Activation('swish'),\n",
    "        tf.keras.layers.Conv2D(\n",
    "            C,\n",
    "            kernel_size=1,\n",
    "            padding='same',\n",
    "            use_bias=False,\n",
    "            activation=None),\n",
    "        tf.keras.layers.BatchNormalization(),\n",
    "        tf.keras.layers.GlobalAveragePooling2D(),\n",
    "        tf.keras.layers.Reshape(1,1,C)\n",
    "        tf.keras.layers.Dense(int(C/r)),\n",
    "        tf.keras.layers.Activation('relu'),\n",
    "        tf.keras.layers.Dense(C),\n",
    "        tf.keras.layers.Activation('sigmoid')]\n",
    "    return cell(x)\n"
   ]
  }
 ],
 "metadata": {
  "kernelspec": {
   "display_name": "Python 3.7.6 64-bit ('VisionEngine': conda)",
   "language": "python",
   "name": "python37664bitvisionengineconda838d932a94804d329f926ede73ba6fa3"
  },
  "language_info": {
   "codemirror_mode": {
    "name": "ipython",
    "version": 3
   },
   "file_extension": ".py",
   "mimetype": "text/x-python",
   "name": "python",
   "nbconvert_exporter": "python",
   "pygments_lexer": "ipython3",
   "version": "3.7.6"
  }
 },
 "nbformat": 4,
 "nbformat_minor": 4
}