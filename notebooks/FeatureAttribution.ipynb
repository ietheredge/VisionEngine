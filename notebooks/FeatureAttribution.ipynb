{
 "cells": [
  {
   "cell_type": "code",
   "execution_count": null,
   "metadata": {},
   "outputs": [],
   "source": [
    "from VisionEngine.utils.config import process_config\n",
    "from VisionEngine.utils import factory\n",
    "from VisionEngine.utils.plotting import plot_img_attributions\n",
    "\n",
    "from VisionEngine.utils.eval import embed_images\n",
    "\n",
    "from VisionEngine.extensions.feature_attribution import calculate_gradients\n",
    "\n",
    "import os\n",
    "from dotenv import load_dotenv\n",
    "from pathlib import Path\n",
    "\n",
    "import tensorflow as tf\n",
    "import matplotlib.pyplot as plt"
   ]
  },
  {
   "cell_type": "code",
   "execution_count": null,
   "metadata": {},
   "outputs": [],
   "source": [
    "# some plotting params\n",
    "plt.rcParams['pdf.use14corefonts'] = True"
   ]
  },
  {
   "cell_type": "code",
   "execution_count": null,
   "metadata": {},
   "outputs": [],
   "source": [
    "GPU = 0  # make sure this is set to 0 if you have a single GPU"
   ]
  },
  {
   "cell_type": "code",
   "execution_count": null,
   "metadata": {},
   "outputs": [],
   "source": [
    "env_path = Path('../') / '.env'\n",
    "load_dotenv(dotenv_path=env_path)"
   ]
  },
  {
   "cell_type": "code",
   "execution_count": null,
   "metadata": {},
   "outputs": [],
   "source": [
    "# DHRL-Trained Guppies (Original Data)\n",
    "checkpoint_path = os.path.join(\n",
    "    os.getenv(\"VISIONENGINE_HOME\"),\n",
    "    \"checkpoints/guppies_DHRL_model.hdf5\"\n",
    ")\n",
    "config_file = os.path.join(\n",
    "    os.getenv(\"VISIONENGINE_HOME\"),\n",
    "    \"VisionEngine/configs/guppies_DHRL_config.json\"\n",
    ")"
   ]
  },
  {
   "cell_type": "code",
   "execution_count": null,
   "metadata": {},
   "outputs": [],
   "source": [
    "config = process_config(config_file)\n",
    "\n",
    "# need to change a few config values\n",
    "config.data_loader.shuffle = False\n",
    "config.data_loader.use_generated = False\n",
    "config.data_loader.use_real = True"
   ]
  },
  {
   "cell_type": "code",
   "execution_count": null,
   "metadata": {
    "tags": []
   },
   "outputs": [],
   "source": [
    "data_loader = factory.create(\n",
    "            \"VisionEngine.data_loaders.\"+config.data_loader.name\n",
    "            )(config)"
   ]
  },
  {
   "cell_type": "code",
   "execution_count": null,
   "metadata": {
    "scrolled": true,
    "tags": []
   },
   "outputs": [],
   "source": [
    "with tf.device(f'/device:GPU:{GPU}'):\n",
    "    model = factory.create(\n",
    "                \"VisionEngine.models.\"+config.model.name\n",
    "                )(config)\n",
    "    model.load(checkpoint_path)\n",
    "    model.trainable = False"
   ]
  },
  {
   "cell_type": "code",
   "execution_count": null,
   "metadata": {
    "tags": []
   },
   "outputs": [],
   "source": [
    "with tf.device(f'/device:GPU:{GPU}'):\n",
    "    # encode the samples\n",
    "    z = tf.convert_to_tensor(embed_images(data_loader.get_test_data(), model))"
   ]
  },
  {
   "cell_type": "code",
   "execution_count": null,
   "metadata": {},
   "outputs": [],
   "source": [
    "hierarchical_level = 0\n",
    "encoding_axis = 3\n",
    "sample_id = 20"
   ]
  },
  {
   "cell_type": "code",
   "execution_count": null,
   "metadata": {},
   "outputs": [],
   "source": [
    "with tf.device(f'/device:GPU:{GPU}'):\n",
    "    attributions = calculate_gradients(z, model, sample_id, encoding_axis, hierarchical_level)"
   ]
  },
  {
   "cell_type": "code",
   "execution_count": null,
   "metadata": {},
   "outputs": [],
   "source": [
    "_ = plot_img_attributions(\n",
    "    image=attributions[1],\n",
    "    recon_img=attributions[2],\n",
    "    attribution_mask=attributions[0],\n",
    "    H=hierarchical_level,\n",
    "    z_i=encoding_axis,\n",
    "    cmap=plt.cm.jet,\n",
    "    overlay_alpha=.5)"
   ]
  },
  {
   "cell_type": "code",
   "execution_count": null,
   "metadata": {},
   "outputs": [],
   "source": []
  }
 ],
 "metadata": {
  "kernelspec": {
   "display_name": "Python 3",
   "language": "python",
   "name": "python3"
  },
  "language_info": {
   "codemirror_mode": {
    "name": "ipython",
    "version": 3
   },
   "file_extension": ".py",
   "mimetype": "text/x-python",
   "name": "python",
   "nbconvert_exporter": "python",
   "pygments_lexer": "ipython3",
   "version": "3.7.6"
  }
 },
 "nbformat": 4,
 "nbformat_minor": 4
}
