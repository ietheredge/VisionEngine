{
 "cells": [
  {
   "cell_type": "code",
   "execution_count": 1,
   "metadata": {},
   "outputs": [],
   "source": [
    "from VisionEngine.datasets import guppies\n",
    "from VisionEngine.utils.config import process_config\n",
    "from VisionEngine.utils import factory\n",
    "import sys\n",
    "import os\n",
    "from PIL import Image\n",
    "from itertools import product\n",
    "from dotenv import load_dotenv\n",
    "from pathlib import Path\n",
    "\n",
    "import numpy as np\n",
    "import scipy\n",
    "\n",
    "import numba\n",
    "\n",
    "import matplotlib.pyplot as plt\n",
    "import matplotlib as mpl\n",
    "from matplotlib.offsetbox import OffsetImage, AnnotationBbox\n",
    "\n",
    "from sklearn.metrics import pairwise_distances\n",
    "from tensorflow.keras.applications import VGG16\n",
    "from tensorflow.keras import Model\n",
    "\n",
    "from openTSNE import TSNE\n",
    "from openTSNE.sklearn import TSNE as sklTSNE\n",
    "from openTSNE.callbacks import ErrorLogger\n",
    "\n",
    "import sys\n",
    "import math\n",
    "\n",
    "import tensorflow as tf\n",
    "from tensorflow.keras.layers import Flatten"
   ]
  },
  {
   "cell_type": "code",
   "execution_count": 2,
   "metadata": {
    "tags": []
   },
   "outputs": [
    {
     "name": "stdout",
     "output_type": "stream",
     "text": [
      "/home/etheredge/Workspace/VisionEngine\n"
     ]
    }
   ],
   "source": [
    "cd .."
   ]
  },
  {
   "cell_type": "code",
   "execution_count": 3,
   "metadata": {},
   "outputs": [],
   "source": [
    "checkpoint_path = '/home/etheredge/Workspace/VisionEngine/checkpoints/butterfly_periodic/2020-205-14/butterfly_periodic.hdf5'"
   ]
  },
  {
   "cell_type": "code",
   "execution_count": 4,
   "metadata": {},
   "outputs": [],
   "source": [
    "config_file = 'VisionEngine/configs/butterfly_periodic_config.json'\n",
    "config = process_config(config_file)"
   ]
  },
  {
   "cell_type": "code",
   "execution_count": 5,
   "metadata": {},
   "outputs": [],
   "source": [
    "config.data_loader.use_generated = False\n",
    "config.data_loader.use_real = True"
   ]
  },
  {
   "cell_type": "code",
   "execution_count": 6,
   "metadata": {},
   "outputs": [
    {
     "data": {
      "text/plain": [
       "True"
      ]
     },
     "execution_count": 6,
     "metadata": {},
     "output_type": "execute_result"
    }
   ],
   "source": [
    "env_path = Path('.') / '.env'\n",
    "load_dotenv(dotenv_path=env_path)"
   ]
  },
  {
   "cell_type": "code",
   "execution_count": 7,
   "metadata": {
    "tags": []
   },
   "outputs": [
    {
     "name": "stdout",
     "output_type": "stream",
     "text": [
      "importing VisionEngine.data_loaders.vae_data_loader\n",
      "getattr DataLoader\n"
     ]
    }
   ],
   "source": [
    "data_loader = factory.create(\n",
    "            \"VisionEngine.data_loaders.\"+config.data_loader.name\n",
    "            )(config)"
   ]
  },
  {
   "cell_type": "code",
   "execution_count": 8,
   "metadata": {
    "tags": []
   },
   "outputs": [
    {
     "name": "stdout",
     "output_type": "stream",
     "text": [
      "importing VisionEngine.models.vae_model\n",
      "getattr VAEModel\n",
      "WARNING:tensorflow:From /home/etheredge/miniconda3/envs/VisionEngine/lib/python3.7/site-packages/tensorflow/python/ops/linalg/linear_operator_diag.py:166: calling LinearOperator.__init__ (from tensorflow.python.ops.linalg.linear_operator) with graph_parents is deprecated and will be removed in a future version.\n",
      "Instructions for updating:\n",
      "Do not pass `graph_parents`.  They will  no longer be used.\n",
      "Model: \"vlae\"\n",
      "__________________________________________________________________________________________________\n",
      "Layer (type)                    Output Shape         Param #     Connected to                     \n",
      "==================================================================================================\n",
      "input_2 (InputLayer)            [(None, 256, 256, 3) 0                                            \n",
      "__________________________________________________________________________________________________\n",
      "encoder (Model)                 [(None, 984064), (No 9918848     input_2[0][0]                    \n",
      "__________________________________________________________________________________________________\n",
      "dense_siren (DenseSiren)        (None, 10)           9840650     encoder[1][0]                    \n",
      "__________________________________________________________________________________________________\n",
      "dense_siren_2 (DenseSiren)      (None, 10)           2007050     encoder[1][1]                    \n",
      "__________________________________________________________________________________________________\n",
      "dense_siren_4 (DenseSiren)      (None, 10)           327690      encoder[1][2]                    \n",
      "__________________________________________________________________________________________________\n",
      "dense_siren_6 (DenseSiren)      (None, 10)           655370      encoder[1][3]                    \n",
      "__________________________________________________________________________________________________\n",
      "dense_siren_1 (DenseSiren)      (None, 10)           110         dense_siren[0][0]                \n",
      "__________________________________________________________________________________________________\n",
      "dense_siren_3 (DenseSiren)      (None, 10)           110         dense_siren_2[0][0]              \n",
      "__________________________________________________________________________________________________\n",
      "dense_siren_5 (DenseSiren)      (None, 10)           110         dense_siren_4[0][0]              \n",
      "__________________________________________________________________________________________________\n",
      "dense_siren_7 (DenseSiren)      (None, 10)           110         dense_siren_6[0][0]              \n",
      "__________________________________________________________________________________________________\n",
      "normal_variational (NormalVaria (None, 10)           220         dense_siren_1[0][0]              \n",
      "__________________________________________________________________________________________________\n",
      "normal_variational_1 (NormalVar (None, 10)           220         dense_siren_3[0][0]              \n",
      "__________________________________________________________________________________________________\n",
      "normal_variational_2 (NormalVar (None, 10)           220         dense_siren_5[0][0]              \n",
      "__________________________________________________________________________________________________\n",
      "normal_variational_3 (NormalVar (None, 10)           220         dense_siren_7[0][0]              \n",
      "__________________________________________________________________________________________________\n",
      "dense_siren_8 (DenseSiren)      (None, 10)           110         normal_variational[0][0]         \n",
      "__________________________________________________________________________________________________\n",
      "dense_siren_10 (DenseSiren)     (None, 10)           110         normal_variational_1[0][0]       \n",
      "__________________________________________________________________________________________________\n",
      "dense_siren_12 (DenseSiren)     (None, 10)           110         normal_variational_2[0][0]       \n",
      "__________________________________________________________________________________________________\n",
      "dense_siren_14 (DenseSiren)     (None, 10)           110         normal_variational_3[0][0]       \n",
      "__________________________________________________________________________________________________\n",
      "dense_siren_9 (DenseSiren)      (None, 10)           110         dense_siren_8[0][0]              \n",
      "__________________________________________________________________________________________________\n",
      "dense_siren_11 (DenseSiren)     (None, 10)           110         dense_siren_10[0][0]             \n",
      "__________________________________________________________________________________________________\n",
      "dense_siren_13 (DenseSiren)     (None, 10)           110         dense_siren_12[0][0]             \n",
      "__________________________________________________________________________________________________\n",
      "dense_siren_15 (DenseSiren)     (None, 10)           110         dense_siren_14[0][0]             \n",
      "__________________________________________________________________________________________________\n",
      "decoder (Model)                 (None, 256, 256, 3)  36870683    dense_siren_9[0][0]              \n",
      "                                                                 dense_siren_11[0][0]             \n",
      "                                                                 dense_siren_13[0][0]             \n",
      "                                                                 dense_siren_15[0][0]             \n",
      "__________________________________________________________________________________________________\n",
      "perceptual_loss_layer (Perceptu [(None, 256, 256, 3) 14718272    input_2[0][0]                    \n",
      "                                                                 decoder[1][0]                    \n",
      "==================================================================================================\n",
      "Total params: 74,340,763\n",
      "Trainable params: 56,441,495\n",
      "Non-trainable params: 17,899,268\n",
      "__________________________________________________________________________________________________\n"
     ]
    }
   ],
   "source": [
    "model = factory.create(\n",
    "            \"VisionEngine.models.\"+config.model.name\n",
    "            )(config)"
   ]
  },
  {
   "cell_type": "code",
   "execution_count": 9,
   "metadata": {
    "scrolled": true,
    "tags": []
   },
   "outputs": [
    {
     "name": "stdout",
     "output_type": "stream",
     "text": [
      "Loading model checkpoint /home/etheredge/Workspace/VisionEngine/checkpoints/butterfly_periodic/2020-205-14/butterfly_periodic.hdf5 ...\n",
      "\n",
      "Model loaded\n"
     ]
    }
   ],
   "source": [
    "model.load(checkpoint_path)"
   ]
  },
  {
   "cell_type": "code",
   "execution_count": 10,
   "metadata": {},
   "outputs": [],
   "source": [
    "class LikeLihoodLayer(tf.keras.layers.Layer):\n",
    "    def __init__(self, **kwargs):\n",
    "        super(LikeLihoodLayer, self).__init__(**kwargs)\n",
    "        self.model_input_shape = [256, 256, 3]\n",
    "\n",
    "    def build(self, input_shape):\n",
    "        super(LikeLihoodLayer, self).build(input_shape)\n",
    "\n",
    "    def call(self, layer_inputs, **kwargs):\n",
    "        inputs, outputs = layer_inputs\n",
    "        mse = - tf.losses.mean_squared_error(inputs, outputs)\n",
    "        out = 1./(tf.sqrt(2.*math.pi))*tf.exp(-.5*(mse)**2.)\n",
    "        return out\n",
    "\n",
    "        return [y_true, y_pred]\n",
    "    def compute_output_shape(self, input_shape):\n",
    "        return input_shape[0]\n",
    "\n",
    "    def get_config(self):\n",
    "        config = {}\n",
    "        base_config = \\\n",
    "            super(LikeLihoodLayer, self).get_config()\n",
    "        return dict(list(base_config.items()) + list(config.items()))\n",
    "\n",
    "def sample_likelihood(x):\n",
    "    inputs = Flatten()(model.model.input)\n",
    "    outputs = Flatten()(model.model.output)\n",
    "    out = LikeLihoodLayer()([inputs, outputs])\n",
    "    lh_model = Model(model.model.input, out)\n",
    "    return lh_model.predict(x)\n",
    "\n",
    "def embed_images(x):\n",
    "    outputs = [\n",
    "        model.model.get_layer('normal_variational').output,\n",
    "        model.model.get_layer('normal_variational_1').output,\n",
    "        model.model.get_layer('normal_variational_2').output,\n",
    "        model.model.get_layer('normal_variational_3').output\n",
    "    ]\n",
    "    encoder = Model(model.model.inputs, outputs)\n",
    "    return encoder.predict(x)\n",
    "\n",
    "def reconstruct_images(x):\n",
    "    return model.model.predict(x)\n",
    "\n",
    "def imscatter(x, y, image, ax=None, zoom=1):\n",
    "    if ax is None:\n",
    "        ax = plt.gca();\n",
    "    try:\n",
    "        image = plt.imread(image);\n",
    "    except TypeError:\n",
    "        # Likely already an array...\n",
    "        pass\n",
    "    x, y = np.atleast_1d(x, y);\n",
    "    artists = [];\n",
    "    for i, (x0, y0) in enumerate(zip(x, y)):\n",
    "        im = OffsetImage(image[i], zoom=zoom);\n",
    "        ab = AnnotationBbox(im, (x0, y0), xycoords='data', frameon=False);\n",
    "        artists.append(ax.add_artist(ab));\n",
    "    ax.update_datalim(np.column_stack([x, y]));\n",
    "    ax.autoscale();\n",
    "    ax.grid(False);\n",
    "    return artists\n",
    "\n",
    "def plot_im(img):\n",
    "    if config.model.last_activation == 'tanh':\n",
    "        img * 0.5 + 0.5\n",
    "        return img\n",
    "    else:\n",
    "        return img"
   ]
  },
  {
   "cell_type": "code",
   "execution_count": 11,
   "metadata": {
    "tags": []
   },
   "outputs": [],
   "source": [
    "z = embed_images(data_loader.get_test_data())\n",
    "lh = sample_likelihood(data_loader.get_test_data())"
   ]
  },
  {
   "cell_type": "code",
   "execution_count": 12,
   "metadata": {},
   "outputs": [],
   "source": [
    "labels = []\n",
    "images = []\n",
    "for image, label in data_loader.get_test_data().take(100):\n",
    "    labels.append(label.numpy())\n",
    "    images.extend(image.numpy())\n",
    "images = np.stack(images)\n",
    "labels = np.array(labels)"
   ]
  },
  {
   "cell_type": "code",
   "execution_count": 13,
   "metadata": {},
   "outputs": [
    {
     "data": {
      "text/plain": [
       "(1600, 256, 256, 3)"
      ]
     },
     "execution_count": 13,
     "metadata": {},
     "output_type": "execute_result"
    }
   ],
   "source": [
    "images.shape"
   ]
  },
  {
   "cell_type": "code",
   "execution_count": 14,
   "metadata": {},
   "outputs": [],
   "source": [
    "x_hat = reconstruct_images(data_loader.get_test_data().take(100))"
   ]
  },
  {
   "cell_type": "code",
   "execution_count": 20,
   "metadata": {},
   "outputs": [
    {
     "name": "stderr",
     "output_type": "stream",
     "text": [
      "Clipping input data to the valid range for imshow with RGB data ([0..1] for floats or [0..255] for integers).\n"
     ]
    },
    {
     "data": {
      "text/plain": [
       "<matplotlib.image.AxesImage at 0x7fc9d43f48d0>"
      ]
     },
     "execution_count": 20,
     "metadata": {},
     "output_type": "execute_result"
    },
    {
     "data": {
      "image/png": "[encoded data removed]",
      "text/plain": [
       "<Figure size 432x288 with 2 Axes>"
      ]
     },
     "metadata": {
      "needs_background": "light"
     },
     "output_type": "display_data"
    }
   ],
   "source": [
    "ID = 10\n",
    "plt.subplot(121)\n",
    "plt.imshow(plot_im(images[ID]))\n",
    "plt.subplot(122)\n",
    "plt.imshow(plot_im(x_hat[ID]))"
   ]
  },
  {
   "cell_type": "code",
   "execution_count": 16,
   "metadata": {},
   "outputs": [
    {
     "data": {
      "text/plain": [
       "(9531, 40)"
      ]
     },
     "execution_count": 16,
     "metadata": {},
     "output_type": "execute_result"
    }
   ],
   "source": [
    "np.concatenate([z[0],z[1],z[2],z[3]], axis=1).shape"
   ]
  },
  {
   "cell_type": "code",
   "execution_count": 17,
   "metadata": {
    "tags": []
   },
   "outputs": [
    {
     "name": "stdout",
     "output_type": "stream",
     "text": [
      "Iteration   50, KL divergence  5.3059, 50 iterations in 3.5750 sec\n",
      "Iteration  100, KL divergence  5.3060, 50 iterations in 3.5485 sec\n",
      "Iteration  150, KL divergence  5.3060, 50 iterations in 3.4894 sec\n",
      "Iteration  200, KL divergence  5.3061, 50 iterations in 3.4554 sec\n",
      "Iteration  250, KL divergence  5.3061, 50 iterations in 3.5514 sec\n",
      "Iteration   50, KL divergence  5.3061, 50 iterations in 3.4748 sec\n",
      "Iteration  100, KL divergence  5.3061, 50 iterations in 3.5757 sec\n",
      "Iteration  150, KL divergence  5.3061, 50 iterations in 3.3783 sec\n",
      "Iteration  200, KL divergence  5.3061, 50 iterations in 3.5154 sec\n",
      "Iteration  250, KL divergence  5.3061, 50 iterations in 3.4306 sec\n",
      "Iteration  300, KL divergence  5.3061, 50 iterations in 3.3691 sec\n",
      "Iteration  350, KL divergence  5.3061, 50 iterations in 3.5893 sec\n",
      "Iteration  400, KL divergence  5.3061, 50 iterations in 3.4857 sec\n",
      "Iteration  450, KL divergence  5.3061, 50 iterations in 3.3058 sec\n",
      "Iteration  500, KL divergence  5.3061, 50 iterations in 3.3591 sec\n",
      "Iteration  550, KL divergence  5.3061, 50 iterations in 3.5216 sec\n",
      "Iteration  600, KL divergence  5.3061, 50 iterations in 3.6670 sec\n",
      "Iteration  650, KL divergence  5.3061, 50 iterations in 3.1866 sec\n",
      "Iteration  700, KL divergence  5.3061, 50 iterations in 3.4619 sec\n",
      "Iteration  750, KL divergence  5.3061, 50 iterations in 3.4344 sec\n",
      "Iteration   50, KL divergence  5.5119, 50 iterations in 3.3831 sec\n",
      "Iteration  100, KL divergence  5.5119, 50 iterations in 3.4174 sec\n",
      "Iteration  150, KL divergence  5.5119, 50 iterations in 3.4700 sec\n",
      "Iteration  200, KL divergence  5.5119, 50 iterations in 3.5820 sec\n",
      "Iteration  250, KL divergence  5.5119, 50 iterations in 3.6155 sec\n",
      "Iteration   50, KL divergence  5.5117, 50 iterations in 3.4769 sec\n",
      "Iteration  100, KL divergence  5.5113, 50 iterations in 3.5565 sec\n",
      "Iteration  150, KL divergence  5.5101, 50 iterations in 3.3610 sec\n",
      "Iteration  200, KL divergence  5.5072, 50 iterations in 3.2544 sec\n",
      "Iteration  250, KL divergence  5.4995, 50 iterations in 3.5343 sec\n",
      "Iteration  300, KL divergence  5.4795, 50 iterations in 3.5859 sec\n",
      "Iteration  350, KL divergence  5.4346, 50 iterations in 3.4519 sec\n",
      "Iteration  400, KL divergence  5.3599, 50 iterations in 3.4581 sec\n",
      "Iteration  450, KL divergence  5.2717, 50 iterations in 3.4865 sec\n",
      "Iteration  500, KL divergence  5.1919, 50 iterations in 3.5996 sec\n",
      "Iteration  550, KL divergence  5.1296, 50 iterations in 3.6483 sec\n",
      "Iteration  600, KL divergence  5.0845, 50 iterations in 3.4240 sec\n",
      "Iteration  650, KL divergence  5.0526, 50 iterations in 3.5914 sec\n",
      "Iteration  700, KL divergence  5.0307, 50 iterations in 3.3720 sec\n",
      "Iteration  750, KL divergence  5.0157, 50 iterations in 3.5983 sec\n",
      "Iteration   50, KL divergence  5.5145, 50 iterations in 3.4471 sec\n",
      "Iteration  100, KL divergence  5.5145, 50 iterations in 3.5206 sec\n",
      "Iteration  150, KL divergence  5.5145, 50 iterations in 3.4257 sec\n",
      "Iteration  200, KL divergence  5.5145, 50 iterations in 3.3920 sec\n",
      "Iteration  250, KL divergence  5.5146, 50 iterations in 3.4943 sec\n",
      "Iteration   50, KL divergence  5.5144, 50 iterations in 3.5309 sec\n",
      "Iteration  100, KL divergence  5.5140, 50 iterations in 3.5427 sec\n",
      "Iteration  150, KL divergence  5.5132, 50 iterations in 3.4790 sec\n",
      "Iteration  200, KL divergence  5.5111, 50 iterations in 3.4229 sec\n",
      "Iteration  250, KL divergence  5.5059, 50 iterations in 3.4260 sec\n",
      "Iteration  300, KL divergence  5.4924, 50 iterations in 3.4943 sec\n",
      "Iteration  350, KL divergence  5.4599, 50 iterations in 3.5131 sec\n",
      "Iteration  400, KL divergence  5.3983, 50 iterations in 3.6419 sec\n",
      "Iteration  450, KL divergence  5.3154, 50 iterations in 3.4291 sec\n",
      "Iteration  500, KL divergence  5.2342, 50 iterations in 3.6424 sec\n",
      "Iteration  550, KL divergence  5.1690, 50 iterations in 3.3479 sec\n",
      "Iteration  600, KL divergence  5.1214, 50 iterations in 3.6966 sec\n",
      "Iteration  650, KL divergence  5.0881, 50 iterations in 3.6973 sec\n",
      "Iteration  700, KL divergence  5.0653, 50 iterations in 3.5467 sec\n",
      "Iteration  750, KL divergence  5.0499, 50 iterations in 3.4633 sec\n",
      "Iteration   50, KL divergence  5.5064, 50 iterations in 3.4594 sec\n",
      "Iteration  100, KL divergence  5.5064, 50 iterations in 3.5891 sec\n",
      "Iteration  150, KL divergence  5.5064, 50 iterations in 3.3743 sec\n",
      "Iteration  200, KL divergence  5.5064, 50 iterations in 3.5449 sec\n",
      "Iteration  250, KL divergence  5.5064, 50 iterations in 3.5710 sec\n",
      "Iteration   50, KL divergence  5.5062, 50 iterations in 3.4234 sec\n",
      "Iteration  100, KL divergence  5.5058, 50 iterations in 3.6946 sec\n",
      "Iteration  150, KL divergence  5.5049, 50 iterations in 3.4554 sec\n",
      "Iteration  200, KL divergence  5.5027, 50 iterations in 3.3925 sec\n",
      "Iteration  250, KL divergence  5.4969, 50 iterations in 3.5006 sec\n",
      "Iteration  300, KL divergence  5.4819, 50 iterations in 3.4557 sec\n",
      "Iteration  350, KL divergence  5.4469, 50 iterations in 3.4917 sec\n",
      "Iteration  400, KL divergence  5.3830, 50 iterations in 3.5728 sec\n",
      "Iteration  450, KL divergence  5.3001, 50 iterations in 3.5978 sec\n",
      "Iteration  500, KL divergence  5.2201, 50 iterations in 3.6432 sec\n",
      "Iteration  550, KL divergence  5.1559, 50 iterations in 3.5386 sec\n",
      "Iteration  600, KL divergence  5.1088, 50 iterations in 3.4957 sec\n",
      "Iteration  650, KL divergence  5.0756, 50 iterations in 3.5493 sec\n",
      "Iteration  700, KL divergence  5.0527, 50 iterations in 3.4919 sec\n",
      "Iteration  750, KL divergence  5.0371, 50 iterations in 3.5629 sec\n",
      "Iteration   50, KL divergence  5.5148, 50 iterations in 3.4485 sec\n",
      "Iteration  100, KL divergence  5.5148, 50 iterations in 3.5743 sec\n",
      "Iteration  150, KL divergence  5.5148, 50 iterations in 3.4325 sec\n",
      "Iteration  200, KL divergence  5.5149, 50 iterations in 3.5075 sec\n",
      "Iteration  250, KL divergence  5.5149, 50 iterations in 3.5444 sec\n",
      "Iteration   50, KL divergence  5.5147, 50 iterations in 3.5284 sec\n",
      "Iteration  100, KL divergence  5.5144, 50 iterations in 3.5094 sec\n",
      "Iteration  150, KL divergence  5.5135, 50 iterations in 3.6429 sec\n",
      "Iteration  200, KL divergence  5.5116, 50 iterations in 3.5610 sec\n",
      "Iteration  250, KL divergence  5.5064, 50 iterations in 3.5821 sec\n",
      "Iteration  300, KL divergence  5.4930, 50 iterations in 3.5593 sec\n",
      "Iteration  350, KL divergence  5.4607, 50 iterations in 3.4662 sec\n",
      "Iteration  400, KL divergence  5.4003, 50 iterations in 3.5985 sec\n",
      "Iteration  450, KL divergence  5.3200, 50 iterations in 3.5373 sec\n",
      "Iteration  500, KL divergence  5.2412, 50 iterations in 3.5227 sec\n",
      "Iteration  550, KL divergence  5.1772, 50 iterations in 3.6119 sec\n",
      "Iteration  600, KL divergence  5.1299, 50 iterations in 3.4889 sec\n",
      "Iteration  650, KL divergence  5.0966, 50 iterations in 3.4915 sec\n",
      "Iteration  700, KL divergence  5.0736, 50 iterations in 3.5133 sec\n",
      "Iteration  750, KL divergence  5.0581, 50 iterations in 3.5454 sec\n"
     ]
    }
   ],
   "source": [
    "vision_engine_embedding = TSNE(callbacks=ErrorLogger(), n_jobs=8, exaggeration=4, learning_rate=len(z)/12).fit(np.concatenate([z[0],z[1],z[2],z[3]], axis=1))\n",
    "h1 = TSNE(callbacks=ErrorLogger(), exaggeration=4, learning_rate=len(z)/12, n_jobs=8).fit(z[0])\n",
    "h2 = TSNE(callbacks=ErrorLogger(), exaggeration=4, learning_rate=len(z)/12, n_jobs=8).fit(z[1])\n",
    "h3 = TSNE(callbacks=ErrorLogger(), exaggeration=4, learning_rate=len(z)/12, n_jobs=8).fit(z[2])\n",
    "h4 = TSNE(callbacks=ErrorLogger(), exaggeration=4, learning_rate=len(z)/12, n_jobs=8).fit(z[3])"
   ]
  },
  {
   "cell_type": "code",
   "execution_count": 18,
   "metadata": {},
   "outputs": [],
   "source": [
    "labels = []\n",
    "images = []\n",
    "for image, label in data_loader.get_plot_data():\n",
    "    labels.append(label.numpy().decode('utf8'))\n",
    "    images.append(image.numpy().astype('uint8'))\n",
    "images = np.stack(images)\n",
    "labels = np.array(labels)"
   ]
  },
  {
   "cell_type": "code",
   "execution_count": 19,
   "metadata": {},
   "outputs": [
    {
     "data": {
      "text/plain": [
       "<matplotlib.collections.PathCollection at 0x7fc9fc2bc210>"
      ]
     },
     "execution_count": 19,
     "metadata": {},
     "output_type": "execute_result"
    },
    {
     "data": {
      "image/png": "[encoded data removed]",
      "text/plain": [
       "<Figure size 720x720 with 1 Axes>"
      ]
     },
     "metadata": {
      "needs_background": "light"
     },
     "output_type": "display_data"
    }
   ],
   "source": [
    "plt.figure(figsize=(10,10))\n",
    "classnames, indices = np.unique( labels, return_inverse=True)\n",
    "N = len(classnames)\n",
    "cmap = plt.cm.rainbow\n",
    "bounds = np.linspace(0,N,N+1)\n",
    "norm = mpl.colors.BoundaryNorm(bounds, cmap.N)\n",
    "\n",
    "embedding = vision_engine_embedding\n",
    "\n",
    "plt.scatter(embedding[:, 0], embedding[:, 1], alpha=0.2,\n",
    "        c=indices, cmap=cmap, norm=norm, s=400)\n"
   ]
  },
  {
   "cell_type": "code",
   "execution_count": null,
   "metadata": {},
   "outputs": [],
   "source": []
  },
  {
   "cell_type": "code",
   "execution_count": 15,
   "metadata": {
    "tags": []
   },
   "outputs": [],
   "source": [
    "plt.figure(figsize=(80,80))\n",
    "# plt.scatter(vision_engine_embedding[:,0],vision_engine_embedding[:,1],c=lh, s=10000)\n",
    "# plt.colorbar()\n",
    "embedding = vision_engine_embedding\n",
    "imscatter(embedding[:, 0], embedding[:, 1], images, zoom=0.60);\n",
    "fig = plt.gcf()\n",
    "fig.savefig('what.png')"
   ]
  },
  {
   "cell_type": "code",
   "execution_count": 23,
   "metadata": {},
   "outputs": [],
   "source": [
    "ranked_lh_args = np.argsort(lh)[::-1]"
   ]
  },
  {
   "cell_type": "code",
   "execution_count": 24,
   "metadata": {},
   "outputs": [
    {
     "data": {
      "text/plain": [
       "array([0.39894214, 0.39894214, 0.39894208, 0.39894208, 0.39894202,\n",
       "       0.39894202, 0.398942  , 0.398942  , 0.398942  , 0.398942  ],\n",
       "      dtype=float32)"
      ]
     },
     "execution_count": 24,
     "metadata": {},
     "output_type": "execute_result"
    }
   ],
   "source": [
    "lh[ranked_lh_args[:10]]"
   ]
  },
  {
   "cell_type": "code",
   "execution_count": null,
   "metadata": {},
   "outputs": [],
   "source": []
  },
  {
   "cell_type": "code",
   "execution_count": 32,
   "metadata": {
    "scrolled": true
   },
   "outputs": [
    {
     "data": {
      "text/plain": [
       "<matplotlib.image.AxesImage at 0x7f784c1fd390>"
      ]
     },
     "execution_count": 32,
     "metadata": {},
     "output_type": "execute_result"
    },
    {
     "data": {
      "image/png": "[encoded data removed]",
      "text/plain": [
       "<Figure size 432x288 with 1 Axes>"
      ]
     },
     "metadata": {
      "needs_background": "light"
     },
     "output_type": "display_data"
    }
   ],
   "source": [
    "plt.imshow(images[ranked_lh_args[6]])"
   ]
  },
  {
   "cell_type": "code",
   "execution_count": 13,
   "metadata": {},
   "outputs": [
    {
     "data": {
      "text/plain": [
       "'/home/etheredge/Workspace/VisionEngine'"
      ]
     },
     "execution_count": 13,
     "metadata": {},
     "output_type": "execute_result"
    }
   ],
   "source": [
    "pwd"
   ]
  },
  {
   "cell_type": "code",
   "execution_count": 29,
   "metadata": {},
   "outputs": [],
   "source": [
    "image_output_folder = 'report_wppvae_gens/figures/images/{}'.format(checkpoint_path.split('/')[7])\n",
    "plot_output_folder = 'report_wppvae_gens/figures/panels{}'.format(checkpoint_path.split('/')[7])\n",
    "n_latents = 4 \n",
    "latent_size = 10\n",
    "Path(image_output_folder).mkdir(parents=True, exist_ok=True)\n",
    "Path(plot_output_folder).mkdir(parents=True, exist_ok=True)"
   ]
  },
  {
   "cell_type": "code",
   "execution_count": 30,
   "metadata": {},
   "outputs": [
    {
     "data": {
      "text/plain": [
       "'/home/etheredge/Workspace/VisionEngine'"
      ]
     },
     "execution_count": 30,
     "metadata": {},
     "output_type": "execute_result"
    }
   ],
   "source": [
    "pwd"
   ]
  },
  {
   "cell_type": "code",
   "execution_count": 31,
   "metadata": {},
   "outputs": [
    {
     "data": {
      "text/plain": [
       "14.093723"
      ]
     },
     "execution_count": 31,
     "metadata": {},
     "output_type": "execute_result"
    }
   ],
   "source": [
    "np.max(z[1])"
   ]
  },
  {
   "cell_type": "code",
   "execution_count": 32,
   "metadata": {},
   "outputs": [],
   "source": [
    "def make_rand_samples(model, n_samples=9, num_steps=300, mu=0., sigma=1.):\n",
    "    output_folder = os.path.join(image_output_folder, 'explore_latents/random_normal/frames')\n",
    "    Path(output_folder).mkdir(parents=True, exist_ok=True)\n",
    "    sample =  [\n",
    "        np.random.multivariate_normal([mu] * latent_size,np.diag([sigma] * latent_size), n_samples)\n",
    "        ] * n_latents\n",
    "\n",
    "    for z in range(n_latents):\n",
    "        for t in range(num_steps):\n",
    "            sample[z] = np.random.multivariate_normal(\n",
    "                [mu] * latent_size, np.diag([sigma] * latent_size), n_samples)\n",
    "            generated = model.get_layer('decoder').predict(sample, batch_size=10)\n",
    "            generated = generated.reshape((n_samples, 256, 256,3))\n",
    "            image_container = Image.new('RGB', (256*3,256*3))\n",
    "            locs = list(product(range(int(np.sqrt(n_samples))),range(int(np.sqrt(n_samples)))))\n",
    "            for i in range(n_samples):\n",
    "                img = generated[i]\n",
    "                j, k = locs[i]\n",
    "                img = 255 * np.array(img)\n",
    "                img = img.astype(np.uint8)\n",
    "                image_container.paste(Image.fromarray(img.astype('uint8')), (k*256, j*256))\n",
    "            image_container.save(os.path.join(output_folder,'z{}_{:03d}.png'.format(z,t)))\n",
    "\n",
    "\n",
    "def make_traversal_from_zeros(model, n_samples=1, num_steps=11):\n",
    "    output_folder = os.path.join(image_output_folder, 'explore_latents/traversal')\n",
    "    Path(output_folder).mkdir(parents=True, exist_ok=True)\n",
    "    multipliers = np.linspace(-3,3,num=num_steps)\n",
    "\n",
    "    for z_i in range(4):\n",
    "        image_container = Image.new('RGB', (256*num_steps,256*latent_size))\n",
    "        for z_i_j in range(latent_size):\n",
    "            for s in range(num_steps):\n",
    "                sample = [np.array([[0] * latent_size]),\n",
    "                        np.array([[0] * latent_size]),\n",
    "                        np.array([[0] * latent_size]),\n",
    "                        np.array([[0] * latent_size])]\n",
    "                \n",
    "                sample[z_i][0][z_i_j] = multipliers[s]\n",
    "                generated = model.get_layer('decoder').predict(sample, batch_size=1)\n",
    "                generated = generated.reshape((256, 256,3))\n",
    "                img = 255 * np.array(generated)\n",
    "                img = img.astype(np.uint8)\n",
    "                image_container.paste(Image.fromarray(img.astype('uint8')), (s*256, z_i_j*256))\n",
    "        image_container.save(os.path.join(output_folder,'z{}.png'.format(z_i)))\n",
    "\n",
    "\n",
    "def make_traversal_from_sample(model, z, n_samples=1, num_steps=11, sample_id=0):\n",
    "    output_folder = os.path.join(image_output_folder, 'explore_latents/traversal')\n",
    "    Path(output_folder).mkdir(parents=True, exist_ok=True)\n",
    "    multipliers = np.linspace(-3,3,num=num_steps)\n",
    "    encoded_sample = [z_i[sample_id] for z_i in z]\n",
    "\n",
    "    for z_i in range(4):\n",
    "        image_container = Image.new('RGB', (256*num_steps,256*latent_size))\n",
    "        for z_i_j in range(latent_size):\n",
    "            for s in range(num_steps):\n",
    "                sample = [np.array([encoded_sample[0]]),\n",
    "                      np.array([encoded_sample[1]]),\n",
    "                      np.array([encoded_sample[2]]),\n",
    "                      np.array([encoded_sample[3]])]\n",
    "                \n",
    "                sample[z_i][0][z_i_j] = multipliers[s]\n",
    "                generated = model.get_layer('decoder').predict(sample, batch_size=1)\n",
    "                generated = generated.reshape((256, 256, 3))\n",
    "                img = 255 * np.array(generated)\n",
    "                img = img.astype(np.uint8)\n",
    "                image_container.paste(Image.fromarray(img.astype('uint8')), (s*256, z_i_j*256))\n",
    "        image_container.save(os.path.join(output_folder,'{}sample{}.png'.format(sample_id, z_i)))\n"
   ]
  },
  {
   "cell_type": "code",
   "execution_count": 33,
   "metadata": {},
   "outputs": [],
   "source": [
    "make_rand_samples(model.model)"
   ]
  },
  {
   "cell_type": "code",
   "execution_count": 34,
   "metadata": {},
   "outputs": [],
   "source": [
    "make_traversal_from_sample(model.model, z, sample_id=1350)"
   ]
  },
  {
   "cell_type": "code",
   "execution_count": 22,
   "metadata": {},
   "outputs": [],
   "source": [
    "make_traversal_from_zeros(model.model)"
   ]
  },
  {
   "cell_type": "code",
   "execution_count": null,
   "metadata": {},
   "outputs": [],
   "source": [
    "vision_engine_embedding1 = TSNE(callbacks=ErrorLogger(), n_jobs=-1, learning_rate=len(z[0])/12, exaggeration=4).fit(np.array(z[0]))\n",
    "vision_engine_embedding2 = TSNE(callbacks=ErrorLogger(), n_jobs=-1, learning_rate=len(z[1])/12, exaggeration=4).fit(np.array(z[1]))\n",
    "vision_engine_embedding3 = TSNE(callbacks=ErrorLogger(), n_jobs=-1, learning_rate=len(z[2])/12, exaggeration=4).fit(np.array(z[2]))\n",
    "vision_engine_embedding4 = TSNE(callbacks=ErrorLogger(), n_jobs=-1, learning_rate=len(z[3])/12, exaggeration=4).fit(np.array(z[3]))"
   ]
  },
  {
   "cell_type": "code",
   "execution_count": null,
   "metadata": {
    "scrolled": false
   },
   "outputs": [],
   "source": [
    "plt.figure(figsize=(80,40))\n",
    "\n",
    "classnames, indices = np.unique( labels, return_inverse=True)\n",
    "N = len(classnames)\n",
    "cmap = plt.cm.rainbow\n",
    "bounds = np.linspace(0,N,N+1)\n",
    "norm = mpl.colors.BoundaryNorm(bounds, cmap.N)\n",
    "\n",
    "plt.subplot(241)\n",
    "embedding = vision_engine_embedding1\n",
    "imscatter(embedding[:, 0], embedding[:, 1], images, zoom=0.40);\n",
    "\n",
    "\n",
    "plt.subplot(242)\n",
    "embedding = vision_engine_embedding2\n",
    "imscatter(embedding[:, 0], embedding[:, 1], images, zoom=0.40);\n",
    "\n",
    "plt.subplot(243)\n",
    "embedding = vision_engine_embedding3\n",
    "imscatter(embedding[:, 0], embedding[:, 1], images, zoom=0.40);\n",
    "\n",
    "plt.subplot(244)\n",
    "embedding = vision_engine_embedding4\n",
    "imscatter(embedding[:, 0], embedding[:, 1], images, zoom=0.40);\n",
    "\n",
    "plt.subplot(245)\n",
    "embedding = vision_engine_embedding1\n",
    "plt.scatter(embedding[:, 0], embedding[:, 1], alpha=0.5,\n",
    "        c=indices, cmap=cmap, norm=norm, s=400)\n",
    "\n",
    "plt.subplot(246)\n",
    "embedding = vision_engine_embedding2\n",
    "plt.scatter(embedding[:, 0], embedding[:, 1], alpha=0.5,\n",
    "        c=indices, cmap=cmap, norm=norm, s=400)\n",
    "\n",
    "plt.subplot(247)\n",
    "embedding = vision_engine_embedding3\n",
    "plt.scatter(embedding[:, 0], embedding[:, 1], alpha=0.5,\n",
    "        c=indices, cmap=cmap, norm=norm, s=400)\n",
    "\n",
    "plt.subplot(248)\n",
    "embedding = vision_engine_embedding4\n",
    "plt.scatter(embedding[:, 0], embedding[:, 1], alpha=0.5,\n",
    "        c=indices, cmap=cmap, norm=norm, s=400)\n",
    "\n",
    "# fig = plt.gcf()\n",
    "# fig.savefig(os.path.join(\n",
    "#     plot_output_folder,\n",
    "#     'Zs_{}_real{}_gen{}.pdf'.format(\n",
    "#         checkpoint_path.split('/')[7],\n",
    "#         config.data_loader.use_real,\n",
    "#         config.data_loader.use_generated\n",
    "#     )\n",
    "# )\n",
    "#            )\n",
    "# fig.savefig(os.path.join(\n",
    "#     plot_output_folder,\n",
    "#     'Zs_{}_real{}_gen{}.png'.format(\n",
    "#         checkpoint_path.split('/')[7],\n",
    "#         config.data_loader.use_real,\n",
    "#         config.data_loader.use_generated\n",
    "#     )\n",
    "# )\n",
    "#            )\n",
    "# plt.clf()"
   ]
  },
  {
   "cell_type": "code",
   "execution_count": null,
   "metadata": {},
   "outputs": [],
   "source": [
    "def make_perceptual_loss_model(input_shape, layers=[13]):\n",
    "    loss_model = VGG16(\n",
    "        weights='imagenet',\n",
    "        include_top=False,\n",
    "        input_shape=input_shape)\n",
    "    loss_model.trainable = False\n",
    "    for layer in loss_model.layers:\n",
    "        layer.trainable = False\n",
    "    loss_layers = [ loss_model.layers[i].output\n",
    "                for i in layers\n",
    "                ]\n",
    "    return Model(loss_model.inputs,loss_layers)\n",
    "\n",
    "# @numba.jit(nopython=True, parallel=True)\n",
    "# def calculate_perceptual_distances(X):\n",
    "#     dists = np.zeros((989,989))\n",
    "#     for layer in X:\n",
    "#         layer.shape\n",
    "#         for i in range(layer.shape[0]):\n",
    "#             for j in range(layer.shape[0]):\n",
    "#                 shape = (layer[i].shape[0]*layer[i].shape[1]*layer[i].shape[2])\n",
    "#                 sqr = np.square(layer[i] - layer[j])\n",
    "#                 sm = np.sum(sqr)\n",
    "#                 val = sm / shape\n",
    "#                 dists[i,j] =+ val\n",
    "#     return dists\n",
    "\n",
    "\n",
    "@numba.jit(nopython=True, parallel=True)\n",
    "def calculate_perceptual_distances(X):\n",
    "    norm_dists = np.zeros((len(X[0]),len(X)))\n",
    "    for i in range(len(X)):\n",
    "        for j in range(len(X[0])):\n",
    "            norm_dists[j, i] = np.linalg.norm(X[i][j].flatten())\n",
    "    return norm_dists"
   ]
  },
  {
   "cell_type": "code",
   "execution_count": null,
   "metadata": {},
   "outputs": [],
   "source": [
    "perceptual_model = make_perceptual_loss_model((256,256,3))"
   ]
  },
  {
   "cell_type": "code",
   "execution_count": null,
   "metadata": {},
   "outputs": [],
   "source": [
    "perception = perceptual_model.predict(data_loader.get_test_data()[0], batch_size=5)\n",
    "perceptual_dists = calculate_perceptual_distances(perception)"
   ]
  },
  {
   "cell_type": "code",
   "execution_count": null,
   "metadata": {},
   "outputs": [],
   "source": [
    "raw_image_embedding = TSNE(callbacks=ErrorLogger(), n_jobs=-1, learning_rate=len(z[0])/12, exaggeration=4).fit(images.flatten())\n",
    "perceptual_embedding = TSNE(callbacks=ErrorLogger(), n_jobs=-1, learning_rate=len(z[0])/12, exaggeration=4).fit(perceptual_dists)\n",
    "vision_engine_embedding = TSNE(callbacks=ErrorLogger(), n_jobs=-1, learning_rate=len(z[3])/12, exaggeration=4).fit(np.concatenate([z[0], z[1], z[2], z[3]]))"
   ]
  },
  {
   "cell_type": "code",
   "execution_count": null,
   "metadata": {},
   "outputs": [],
   "source": [
    "classnames, indices = np.unique( labels, return_inverse=True)\n",
    "N = len(classnames)\n",
    "cmap = plt.cm.rainbow\n",
    "bounds = np.linspace(0,N,N+1)\n",
    "norm = mpl.colors.BoundaryNorm(bounds, cmap.N)\n",
    "\n",
    "plt.figure(figsize=(40,40))\n",
    "\n",
    "plt.subplot(231)\n",
    "embedding = raw_image_embedding\n",
    "imscatter(embedding[:, 0], embedding[:, 1], data_loader.get_test_data()[0], zoom=0.40);\n",
    "plt.subplot(234)\n",
    "plt.scatter(embedding[:, 0], embedding[:, 1], alpha=0.5,\n",
    "        c=indices, cmap=cmap, norm=norm, s=400)\n",
    "\n",
    "plt.subplot(232)\n",
    "embedding = perceptual_embedding\n",
    "imscatter(embedding[:, 0], embedding[:, 1], data_loader.get_test_data()[0], zoom=0.40);\n",
    "plt.subplot(235)\n",
    "plt.scatter(embedding[:, 0], embedding[:, 1], alpha=0.5,\n",
    "        c=indices, cmap=cmap, norm=norm, s=400)\n",
    "\n",
    "plt.subplot(233)\n",
    "embedding = vision_engine_embedding\n",
    "classnames, indices = np.unique(y_train, return_inverse=True)\n",
    "plt.subplot(236)\n",
    "plt.scatter(embedding[:, 0], embedding[:, 1], alpha=0.5,\n",
    "        c=indices, cmap=cmap, norm=norm, s=400)\n",
    "\n",
    "fig = plt.gcf()\n",
    "fig.savefig(os.path.join(\n",
    "    plot_output_folder,\n",
    "    'compare_methods_{}.pdf'.format(\n",
    "        checkpoint_path.split('/')[7]\n",
    "    )\n",
    ")\n",
    "fig.savefig(os.path.join(\n",
    "    plot_output_folder,\n",
    "    'compare_methods_{}.png'.format(\n",
    "        checkpoint_path.split('/')[7]\n",
    "    )\n",
    ")\n",
    "plt.clf()"
   ]
  },
  {
   "cell_type": "code",
   "execution_count": null,
   "metadata": {},
   "outputs": [],
   "source": []
  }
 ],
 "metadata": {
  "file_extension": ".py",
  "kernelspec": {
   "display_name": "Python 3.7.6 64-bit ('VisionEngine': conda)",
   "language": "python",
   "name": "python37664bitvisionengineconda838d932a94804d329f926ede73ba6fa3"
  },
  "language_info": {
   "codemirror_mode": {
    "name": "ipython",
    "version": 3
   },
   "file_extension": ".py",
   "mimetype": "text/x-python",
   "name": "python",
   "nbconvert_exporter": "python",
   "pygments_lexer": "ipython3",
   "version": "3.7.6"
  },
  "mimetype": "text/x-python",
  "name": "python",
  "npconvert_exporter": "python",
  "pygments_lexer": "ipython3",
  "version": 3
 },
 "nbformat": 4,
 "nbformat_minor": 2
}
