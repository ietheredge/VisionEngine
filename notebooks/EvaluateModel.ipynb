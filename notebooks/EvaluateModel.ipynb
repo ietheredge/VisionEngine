{
 "cells": [
  {
   "cell_type": "code",
   "execution_count": 1,
   "metadata": {},
   "outputs": [],
   "source": [
    "from VisionEngine.datasets import guppies\n",
    "from VisionEngine.utils.config import process_config\n",
    "from VisionEngine.utils import factory\n",
    "import sys\n",
    "import os\n",
    "from PIL import Image\n",
    "from itertools import product\n",
    "from pathlib import Path\n",
    "\n",
    "import numpy as np\n",
    "import scipy\n",
    "\n",
    "import numba\n",
    "\n",
    "import matplotlib.pyplot as plt\n",
    "import matplotlib as mpl\n",
    "from matplotlib.offsetbox import OffsetImage, AnnotationBbox\n",
    "\n",
    "from sklearn.metrics import pairwise_distances\n",
    "from tensorflow.keras.applications import VGG16\n",
    "from tensorflow.keras import Model\n",
    "\n",
    "from openTSNE import TSNE\n",
    "from openTSNE.sklearn import TSNE as sklTSNE\n",
    "from openTSNE.callbacks import ErrorLogger\n",
    "\n",
    "import sys\n",
    "import math\n",
    "\n",
    "import tensorflow as tf\n",
    "from tensorflow.keras.layers import Flatten"
   ]
  },
  {
   "cell_type": "code",
   "execution_count": 2,
   "metadata": {},
   "outputs": [
    {
     "name": "stdout",
     "output_type": "stream",
     "text": [
      "/home/etheredge/Workspace/VisionEngine\n"
     ]
    }
   ],
   "source": [
    "cd .."
   ]
  },
  {
   "cell_type": "code",
   "execution_count": 3,
   "metadata": {},
   "outputs": [],
   "source": [
    "checkpoint_path = '/home/etheredge/Workspace/VisionEngine/models/checkpoints/guppy_vae_mmd5000_nokl_wpercep_reconp5/2020-076-15/guppy_vae_mmd5000_nokl_wpercep_reconp5.hdf5'"
   ]
  },
  {
   "cell_type": "code",
   "execution_count": 4,
   "metadata": {},
   "outputs": [],
   "source": [
    "config_file = 'VisionEngine/configs/guppy_vae_config_mmd5000_nokl_wpercep_reconp5.json'\n",
    "config = process_config(config_file)"
   ]
  },
  {
   "cell_type": "code",
   "execution_count": 5,
   "metadata": {},
   "outputs": [],
   "source": [
    "# config.data_loader.use_generated = False  # only look at real samples"
   ]
  },
  {
   "cell_type": "code",
   "execution_count": 6,
   "metadata": {},
   "outputs": [
    {
     "name": "stdout",
     "output_type": "stream",
     "text": [
      "importing VisionEngine.data_loaders.guppy_vae_data_loader\n",
      "getattr GuppyDataLoader\n"
     ]
    }
   ],
   "source": [
    "data_loader = factory.create(\n",
    "            \"VisionEngine.data_loaders.\"+config.data_loader.name\n",
    "            )(config)"
   ]
  },
  {
   "cell_type": "code",
   "execution_count": 7,
   "metadata": {},
   "outputs": [
    {
     "name": "stdout",
     "output_type": "stream",
     "text": [
      "importing VisionEngine.models.vae_model\n",
      "getattr VAEModel\n",
      "Model: \"vlae\"\n",
      "__________________________________________________________________________________________________\n",
      "Layer (type)                    Output Shape         Param #     Connected to                     \n",
      "==================================================================================================\n",
      "input_2 (InputLayer)            [(None, 256, 256, 3) 0                                            \n",
      "__________________________________________________________________________________________________\n",
      "encoder (Model)                 [(None, 984064), (No 9918848     input_2[0][0]                    \n",
      "__________________________________________________________________________________________________\n",
      "normal_variational (NormalVaria (None, 10)           19681301    encoder[1][0]                    \n",
      "__________________________________________________________________________________________________\n",
      "normal_variational_1 (NormalVar (None, 10)           4014101     encoder[1][1]                    \n",
      "__________________________________________________________________________________________________\n",
      "normal_variational_2 (NormalVar (None, 10)           655381      encoder[1][2]                    \n",
      "__________________________________________________________________________________________________\n",
      "normal_variational_3 (NormalVar (None, 10)           1310741     encoder[1][3]                    \n",
      "__________________________________________________________________________________________________\n",
      "decoder (Model)                 (None, 256, 256, 3)  170820291   normal_variational[0][0]         \n",
      "                                                                 normal_variational_1[0][0]       \n",
      "                                                                 normal_variational_2[0][0]       \n",
      "                                                                 normal_variational_3[0][0]       \n",
      "__________________________________________________________________________________________________\n",
      "perceptual_loss_layer (Perceptu [(None, 256, 256, 3) 14718528    input_2[0][0]                    \n",
      "                                                                 decoder[1][0]                    \n",
      "==================================================================================================\n",
      "Total params: 221,119,191\n",
      "Trainable params: 203,242,131\n",
      "Non-trainable params: 17,877,060\n",
      "__________________________________________________________________________________________________\n"
     ]
    }
   ],
   "source": [
    "model = factory.create(\n",
    "            \"VisionEngine.models.\"+config.model.name\n",
    "            )(config)"
   ]
  },
  {
   "cell_type": "code",
   "execution_count": 8,
   "metadata": {},
   "outputs": [
    {
     "name": "stdout",
     "output_type": "stream",
     "text": [
      "Loading model checkpoint /home/etheredge/Workspace/VisionEngine/models/checkpoints/guppy_vae_mmd5000_nokl_wpercep_reconp5/2020-076-15/guppy_vae_mmd5000_nokl_wpercep_reconp5.hdf5 ...\n",
      "\n",
      "Model loaded\n"
     ]
    }
   ],
   "source": [
    "model.load(checkpoint_path)"
   ]
  },
  {
   "cell_type": "code",
   "execution_count": 9,
   "metadata": {},
   "outputs": [],
   "source": [
    "def sample_likelihood(x, x_hat):\n",
    "    mse = - tf.losses.mean_squared_error(Flatten()(x), Flatten()(x_hat))\n",
    "    return tf.math.log(1./(tf.sqrt(2.*math.pi))*tf.exp(-.5*(mse)**2.))\n",
    "\n",
    "def embed_images(x):\n",
    "    outputs = [\n",
    "        model.model.get_layer('normal_variational').output,\n",
    "        model.model.get_layer('normal_variational_1').output,\n",
    "        model.model.get_layer('normal_variational_2').output,\n",
    "        model.model.get_layer('normal_variational_3').output\n",
    "    ]\n",
    "    encoder = Model(model.model.inputs, outputs)\n",
    "    return encoder.predict_generator(x)\n",
    "\n",
    "def reconstruct_images(x):\n",
    "    return model.model.predict_generator(x)\n",
    "\n",
    "def imscatter(x, y, image, ax=None, zoom=1):\n",
    "    if ax is None:\n",
    "        ax = plt.gca();\n",
    "    try:\n",
    "        image = plt.imread(image);\n",
    "    except TypeError:\n",
    "        # Likely already an array...\n",
    "        pass\n",
    "    x, y = np.atleast_1d(x, y);\n",
    "    artists = [];\n",
    "    for i, (x0, y0) in enumerate(zip(x, y)):\n",
    "        im = OffsetImage(image[i], zoom=zoom);\n",
    "        ab = AnnotationBbox(im, (x0, y0), xycoords='data', frameon=False);\n",
    "        artists.append(ax.add_artist(ab));\n",
    "    ax.update_datalim(np.column_stack([x, y]));\n",
    "    ax.autoscale();\n",
    "    ax.grid(False);\n",
    "    return artists"
   ]
  },
  {
   "cell_type": "code",
   "execution_count": 10,
   "metadata": {},
   "outputs": [],
   "source": [
    "z = embed_images(data_loader.get_test_data())"
   ]
  },
  {
   "cell_type": "code",
   "execution_count": 11,
   "metadata": {},
   "outputs": [],
   "source": [
    "labels = []\n",
    "images = []\n",
    "for image, label in data_loader.get_plot_data():\n",
    "    labels.append(label.numpy().decode('utf8'))\n",
    "    images.append(image.numpy().astype('uint8'))\n",
    "images = np.stack(images)\n",
    "labels = np.array(labels)"
   ]
  },
  {
   "cell_type": "code",
   "execution_count": 12,
   "metadata": {
    "scrolled": true
   },
   "outputs": [
    {
     "data": {
      "text/plain": [
       "<matplotlib.image.AxesImage at 0x7fdacc0928d0>"
      ]
     },
     "execution_count": 12,
     "metadata": {},
     "output_type": "execute_result"
    },
    {
     "data": {
      "image/png": "[encoded data removed]",
      "text/plain": [
       "<Figure size 432x288 with 1 Axes>"
      ]
     },
     "metadata": {
      "needs_background": "light"
     },
     "output_type": "display_data"
    }
   ],
   "source": [
    "plt.imshow(images[-102])"
   ]
  },
  {
   "cell_type": "code",
   "execution_count": 13,
   "metadata": {},
   "outputs": [
    {
     "data": {
      "text/plain": [
       "'/home/etheredge/Workspace/VisionEngine'"
      ]
     },
     "execution_count": 13,
     "metadata": {},
     "output_type": "execute_result"
    }
   ],
   "source": [
    "pwd"
   ]
  },
  {
   "cell_type": "code",
   "execution_count": 14,
   "metadata": {},
   "outputs": [],
   "source": [
    "image_output_folder = 'report_again/figures/images/{}'.format(checkpoint_path.split('/')[7])\n",
    "plot_output_folder = 'report_again/figures/panels{}'.format(checkpoint_path.split('/')[7])\n",
    "n_latents = 4 \n",
    "latent_size = 10\n",
    "Path(image_output_folder).mkdir(parents=True, exist_ok=True)\n",
    "Path(plot_output_folder).mkdir(parents=True, exist_ok=True)"
   ]
  },
  {
   "cell_type": "code",
   "execution_count": 15,
   "metadata": {},
   "outputs": [
    {
     "data": {
      "text/plain": [
       "'/home/etheredge/Workspace/VisionEngine'"
      ]
     },
     "execution_count": 15,
     "metadata": {},
     "output_type": "execute_result"
    }
   ],
   "source": [
    "pwd"
   ]
  },
  {
   "cell_type": "code",
   "execution_count": 16,
   "metadata": {},
   "outputs": [],
   "source": [
    "def make_rand_samples(model, n_samples=9, num_steps=300, mu=0., sigma=1.):\n",
    "    output_folder = os.path.join(image_output_folder, 'explore_latents/random_normal/frames')\n",
    "    Path(output_folder).mkdir(parents=True, exist_ok=True)\n",
    "    sample =  [\n",
    "        np.random.multivariate_normal([mu] * latent_size,np.diag([sigma] * latent_size), n_samples)\n",
    "        ] * n_latents\n",
    "\n",
    "    for z in range(n_latents):\n",
    "        for t in range(num_steps):\n",
    "            sample[z] = np.random.multivariate_normal(\n",
    "                [mu] * latent_size, np.diag([sigma] * latent_size), n_samples)\n",
    "            generated = model.get_layer('decoder').predict(sample, batch_size=10)\n",
    "            generated = generated.reshape((n_samples, 256, 256,3))\n",
    "            image_container = Image.new('RGB', (256*3,256*3))\n",
    "            locs = list(product(range(int(np.sqrt(n_samples))),range(int(np.sqrt(n_samples)))))\n",
    "            for i in range(n_samples):\n",
    "                img = generated[i]\n",
    "                j, k = locs[i]\n",
    "                img = 255 * np.array(img)\n",
    "                img = img.astype(np.uint8)\n",
    "                image_container.paste(Image.fromarray(img.astype('uint8')), (k*256, j*256))\n",
    "            image_container.save(os.path.join(output_folder,'z{}_{:03d}.png'.format(z,t)))\n",
    "\n",
    "\n",
    "def make_traversal_from_zeros(model, n_samples=1, num_steps=11):\n",
    "    output_folder = os.path.join(image_output_folder, 'explore_latents/traversal')\n",
    "    Path(output_folder).mkdir(parents=True, exist_ok=True)\n",
    "    multipliers = np.linspace(-3,3,num=num_steps)\n",
    "\n",
    "    for z_i in range(4):\n",
    "        image_container = Image.new('RGB', (256*num_steps,256*latent_size))\n",
    "        for z_i_j in range(latent_size):\n",
    "            for s in range(num_steps):\n",
    "                sample = [np.array([[0] * latent_size]),\n",
    "                        np.array([[0] * latent_size]),\n",
    "                        np.array([[0] * latent_size]),\n",
    "                        np.array([[0] * latent_size])]\n",
    "                \n",
    "                sample[z_i][0][z_i_j] = multipliers[s]\n",
    "                generated = model.get_layer('decoder').predict(sample, batch_size=1)\n",
    "                generated = generated.reshape((256, 256,3))\n",
    "                img = 255 * np.array(generated)\n",
    "                img = img.astype(np.uint8)\n",
    "                image_container.paste(Image.fromarray(img.astype('uint8')), (s*256, z_i_j*256))\n",
    "        image_container.save(os.path.join(output_folder,'z{}.png'.format(z_i)))\n",
    "\n",
    "\n",
    "def make_traversal_from_sample(model, z, n_samples=1, num_steps=11, sample_id=0):\n",
    "    output_folder = os.path.join(image_output_folder, 'explore_latents/traversal')\n",
    "    Path(output_folder).mkdir(parents=True, exist_ok=True)\n",
    "    multipliers = np.linspace(-3,3,num=num_steps)\n",
    "    encoded_sample = [z_i[sample_id] for z_i in z]\n",
    "\n",
    "    for z_i in range(4):\n",
    "        image_container = Image.new('RGB', (256*num_steps,256*latent_size))\n",
    "        for z_i_j in range(latent_size):\n",
    "            for s in range(num_steps):\n",
    "                sample = [np.array([encoded_sample[0]]),\n",
    "                      np.array([encoded_sample[1]]),\n",
    "                      np.array([encoded_sample[2]]),\n",
    "                      np.array([encoded_sample[3]])]\n",
    "                \n",
    "                sample[z_i][0][z_i_j] = multipliers[s]\n",
    "                generated = model.get_layer('decoder').predict(sample, batch_size=1)\n",
    "                generated = generated.reshape((256, 256, 3))\n",
    "                img = 255 * np.array(generated)\n",
    "                img = img.astype(np.uint8)\n",
    "                image_container.paste(Image.fromarray(img.astype('uint8')), (s*256, z_i_j*256))\n",
    "        image_container.save(os.path.join(output_folder,'{}sample{}.png'.format(sample_id, z_i)))\n"
   ]
  },
  {
   "cell_type": "code",
   "execution_count": 17,
   "metadata": {},
   "outputs": [],
   "source": [
    "make_rand_samples(model.model)"
   ]
  },
  {
   "cell_type": "code",
   "execution_count": 18,
   "metadata": {},
   "outputs": [],
   "source": [
    "make_traversal_from_sample(model.model, z, sample_id=-102)"
   ]
  },
  {
   "cell_type": "code",
   "execution_count": 19,
   "metadata": {},
   "outputs": [],
   "source": [
    "make_traversal_from_zeros(model.model)"
   ]
  },
  {
   "cell_type": "code",
   "execution_count": 16,
   "metadata": {},
   "outputs": [
    {
     "name": "stdout",
     "output_type": "stream",
     "text": [
      "Iteration   50, KL divergence  6.6729, 50 iterations in 4.6124 sec\n",
      "Iteration  100, KL divergence  6.6679, 50 iterations in 4.6270 sec\n",
      "Iteration  150, KL divergence  6.6662, 50 iterations in 4.6178 sec\n",
      "Iteration  200, KL divergence  6.6655, 50 iterations in 4.6937 sec\n",
      "Iteration  250, KL divergence  6.6653, 50 iterations in 4.6420 sec\n",
      "Iteration   50, KL divergence  6.0194, 50 iterations in 4.5540 sec\n",
      "Iteration  100, KL divergence  6.0054, 50 iterations in 4.6829 sec\n",
      "Iteration  150, KL divergence  6.0051, 50 iterations in 4.5761 sec\n",
      "Iteration   50, KL divergence  6.7368, 50 iterations in 4.5453 sec\n",
      "Iteration  100, KL divergence  6.7261, 50 iterations in 4.6045 sec\n",
      "Iteration  150, KL divergence  6.7261, 50 iterations in 4.6032 sec\n",
      "Iteration  200, KL divergence  6.7261, 50 iterations in 4.6118 sec\n",
      "Iteration  250, KL divergence  6.7261, 50 iterations in 4.6004 sec\n",
      "Iteration   50, KL divergence  6.0825, 50 iterations in 4.5028 sec\n",
      "Iteration  100, KL divergence  6.1071, 50 iterations in 4.6154 sec\n",
      "Iteration  150, KL divergence  6.1074, 50 iterations in 4.6478 sec\n",
      "Iteration  200, KL divergence  6.1073, 50 iterations in 4.5784 sec\n",
      "Iteration   50, KL divergence  6.6695, 50 iterations in 4.5514 sec\n",
      "Iteration  100, KL divergence  6.6676, 50 iterations in 4.6838 sec\n",
      "Iteration  150, KL divergence  6.6674, 50 iterations in 4.6229 sec\n",
      "Iteration  200, KL divergence  6.6672, 50 iterations in 4.6761 sec\n",
      "Iteration  250, KL divergence  6.6671, 50 iterations in 4.6211 sec\n",
      "Iteration   50, KL divergence  6.0187, 50 iterations in 4.5287 sec\n",
      "Iteration  100, KL divergence  6.0056, 50 iterations in 4.6216 sec\n",
      "Iteration  150, KL divergence  6.0055, 50 iterations in 4.6124 sec\n",
      "Iteration   50, KL divergence  6.7190, 50 iterations in 4.5664 sec\n",
      "Iteration  100, KL divergence  6.7121, 50 iterations in 4.6371 sec\n",
      "Iteration  150, KL divergence  6.7121, 50 iterations in 4.5837 sec\n",
      "Iteration   50, KL divergence  6.1285, 50 iterations in 4.5311 sec\n",
      "Iteration  100, KL divergence  6.1534, 50 iterations in 4.6636 sec\n",
      "Iteration  150, KL divergence  6.1474, 50 iterations in 4.5904 sec\n",
      "Iteration  200, KL divergence  6.1376, 50 iterations in 4.6586 sec\n",
      "Iteration  250, KL divergence  6.1378, 50 iterations in 4.6423 sec\n"
     ]
    }
   ],
   "source": [
    "vision_engine_embedding1 = TSNE(callbacks=ErrorLogger(), n_jobs=-1, learning_rate=len(z[0])/12, exaggeration=4).fit(np.array(z[0]))\n",
    "vision_engine_embedding2 = TSNE(callbacks=ErrorLogger(), n_jobs=-1, learning_rate=len(z[1])/12, exaggeration=4).fit(np.array(z[1]))\n",
    "vision_engine_embedding3 = TSNE(callbacks=ErrorLogger(), n_jobs=-1, learning_rate=len(z[2])/12, exaggeration=4).fit(np.array(z[2]))\n",
    "vision_engine_embedding4 = TSNE(callbacks=ErrorLogger(), n_jobs=-1, learning_rate=len(z[3])/12, exaggeration=4).fit(np.array(z[3]))"
   ]
  },
  {
   "cell_type": "code",
   "execution_count": 17,
   "metadata": {
    "scrolled": false
   },
   "outputs": [
    {
     "data": {
      "text/plain": [
       "<Figure size 5760x2880 with 0 Axes>"
      ]
     },
     "metadata": {},
     "output_type": "display_data"
    }
   ],
   "source": [
    "plt.figure(figsize=(80,40))\n",
    "\n",
    "classnames, indices = np.unique( labels, return_inverse=True)\n",
    "N = len(classnames)\n",
    "cmap = plt.cm.rainbow\n",
    "bounds = np.linspace(0,N,N+1)\n",
    "norm = mpl.colors.BoundaryNorm(bounds, cmap.N)\n",
    "\n",
    "plt.subplot(241)\n",
    "embedding = vision_engine_embedding1\n",
    "imscatter(embedding[:, 0], embedding[:, 1], images, zoom=0.40);\n",
    "\n",
    "\n",
    "plt.subplot(242)\n",
    "embedding = vision_engine_embedding2\n",
    "imscatter(embedding[:, 0], embedding[:, 1], images, zoom=0.40);\n",
    "\n",
    "plt.subplot(243)\n",
    "embedding = vision_engine_embedding3\n",
    "imscatter(embedding[:, 0], embedding[:, 1], images, zoom=0.40);\n",
    "\n",
    "plt.subplot(244)\n",
    "embedding = vision_engine_embedding4\n",
    "imscatter(embedding[:, 0], embedding[:, 1], images, zoom=0.40);\n",
    "\n",
    "plt.subplot(245)\n",
    "embedding = vision_engine_embedding1\n",
    "plt.scatter(embedding[:, 0], embedding[:, 1], alpha=0.5,\n",
    "        c=indices, cmap=cmap, norm=norm, s=400)\n",
    "\n",
    "plt.subplot(246)\n",
    "embedding = vision_engine_embedding2\n",
    "plt.scatter(embedding[:, 0], embedding[:, 1], alpha=0.5,\n",
    "        c=indices, cmap=cmap, norm=norm, s=400)\n",
    "\n",
    "plt.subplot(247)\n",
    "embedding = vision_engine_embedding3\n",
    "plt.scatter(embedding[:, 0], embedding[:, 1], alpha=0.5,\n",
    "        c=indices, cmap=cmap, norm=norm, s=400)\n",
    "\n",
    "plt.subplot(248)\n",
    "embedding = vision_engine_embedding4\n",
    "plt.scatter(embedding[:, 0], embedding[:, 1], alpha=0.5,\n",
    "        c=indices, cmap=cmap, norm=norm, s=400)\n",
    "\n",
    "fig = plt.gcf()\n",
    "fig.savefig(os.path.join(\n",
    "    plot_output_folder,\n",
    "    'Zs_{}_real{}_gen{}.pdf'.format(\n",
    "        checkpoint_path.split('/')[7],\n",
    "        config.data_loader.use_real,\n",
    "        config.data_loader.use_generated\n",
    "    )\n",
    ")\n",
    "           )\n",
    "fig.savefig(os.path.join(\n",
    "    plot_output_folder,\n",
    "    'Zs_{}_real{}_gen{}.png'.format(\n",
    "        checkpoint_path.split('/')[7],\n",
    "        config.data_loader.use_real,\n",
    "        config.data_loader.use_generated\n",
    "    )\n",
    ")\n",
    "           )\n",
    "plt.clf()"
   ]
  },
  {
   "cell_type": "code",
   "execution_count": null,
   "metadata": {},
   "outputs": [],
   "source": [
    "def make_perceptual_loss_model(input_shape, layers=[13]):\n",
    "    loss_model = VGG16(\n",
    "        weights='imagenet',\n",
    "        include_top=False,\n",
    "        input_shape=input_shape)\n",
    "    loss_model.trainable = False\n",
    "    for layer in loss_model.layers:\n",
    "        layer.trainable = False\n",
    "    loss_layers = [ loss_model.layers[i].output\n",
    "                for i in layers\n",
    "                ]\n",
    "    return Model(loss_model.inputs,loss_layers)\n",
    "\n",
    "# @numba.jit(nopython=True, parallel=True)\n",
    "# def calculate_perceptual_distances(X):\n",
    "#     dists = np.zeros((989,989))\n",
    "#     for layer in X:\n",
    "#         layer.shape\n",
    "#         for i in range(layer.shape[0]):\n",
    "#             for j in range(layer.shape[0]):\n",
    "#                 shape = (layer[i].shape[0]*layer[i].shape[1]*layer[i].shape[2])\n",
    "#                 sqr = np.square(layer[i] - layer[j])\n",
    "#                 sm = np.sum(sqr)\n",
    "#                 val = sm / shape\n",
    "#                 dists[i,j] =+ val\n",
    "#     return dists\n",
    "\n",
    "\n",
    "@numba.jit(nopython=True, parallel=True)\n",
    "def calculate_perceptual_distances(X):\n",
    "    norm_dists = np.zeros((len(X[0]),len(X)))\n",
    "    for i in range(len(X)):\n",
    "        for j in range(len(X[0])):\n",
    "            norm_dists[j, i] = np.linalg.norm(X[i][j].flatten())\n",
    "    return norm_dists"
   ]
  },
  {
   "cell_type": "code",
   "execution_count": null,
   "metadata": {},
   "outputs": [],
   "source": [
    "perceptual_model = make_perceptual_loss_model((256,256,3))"
   ]
  },
  {
   "cell_type": "code",
   "execution_count": null,
   "metadata": {},
   "outputs": [],
   "source": [
    "perception = perceptual_model.predict(data_loader.get_test_data()[0], batch_size=5)\n",
    "perceptual_dists = calculate_perceptual_distances(perception)"
   ]
  },
  {
   "cell_type": "code",
   "execution_count": null,
   "metadata": {},
   "outputs": [],
   "source": [
    "raw_image_embedding = TSNE(callbacks=ErrorLogger(), n_jobs=-1, learning_rate=len(z[0])/12, exaggeration=4).fit(images.flatten())\n",
    "perceptual_embedding = TSNE(callbacks=ErrorLogger(), n_jobs=-1, learning_rate=len(z[0])/12, exaggeration=4).fit(perceptual_dists)\n",
    "vision_engine_embedding = TSNE(callbacks=ErrorLogger(), n_jobs=-1, learning_rate=len(z[3])/12, exaggeration=4).fit(np.concatenate([z[0], z[1], z[2], z[3]]))"
   ]
  },
  {
   "cell_type": "code",
   "execution_count": null,
   "metadata": {},
   "outputs": [],
   "source": [
    "classnames, indices = np.unique( labels, return_inverse=True)\n",
    "N = len(classnames)\n",
    "cmap = plt.cm.rainbow\n",
    "bounds = np.linspace(0,N,N+1)\n",
    "norm = mpl.colors.BoundaryNorm(bounds, cmap.N)\n",
    "\n",
    "plt.figure(figsize=(40,40))\n",
    "\n",
    "plt.subplot(231)\n",
    "embedding = raw_image_embedding\n",
    "imscatter(embedding[:, 0], embedding[:, 1], data_loader.get_test_data()[0], zoom=0.40);\n",
    "plt.subplot(234)\n",
    "plt.scatter(embedding[:, 0], embedding[:, 1], alpha=0.5,\n",
    "        c=indices, cmap=cmap, norm=norm, s=400)\n",
    "\n",
    "plt.subplot(232)\n",
    "embedding = perceptual_embedding\n",
    "imscatter(embedding[:, 0], embedding[:, 1], data_loader.get_test_data()[0], zoom=0.40);\n",
    "plt.subplot(235)\n",
    "plt.scatter(embedding[:, 0], embedding[:, 1], alpha=0.5,\n",
    "        c=indices, cmap=cmap, norm=norm, s=400)\n",
    "\n",
    "plt.subplot(233)\n",
    "embedding = vision_engine_embedding\n",
    "classnames, indices = np.unique(y_train, return_inverse=True)\n",
    "plt.subplot(236)\n",
    "plt.scatter(embedding[:, 0], embedding[:, 1], alpha=0.5,\n",
    "        c=indices, cmap=cmap, norm=norm, s=400)\n",
    "\n",
    "fig = plt.gcf()\n",
    "fig.savefig(os.path.join(\n",
    "    plot_output_folder,\n",
    "    'compare_methods_{}.pdf'.format(\n",
    "        checkpoint_path.split('/')[7]\n",
    "    )\n",
    ")\n",
    "fig.savefig(os.path.join(\n",
    "    plot_output_folder,\n",
    "    'compare_methods_{}.png'.format(\n",
    "        checkpoint_path.split('/')[7]\n",
    "    )\n",
    ")\n",
    "plt.clf()"
   ]
  },
  {
   "cell_type": "code",
   "execution_count": null,
   "metadata": {},
   "outputs": [],
   "source": []
  }
 ],
 "metadata": {
  "file_extension": ".py",
  "kernelspec": {
   "display_name": "Python 3.7.6 64-bit ('VisionEngine': conda)",
   "language": "python",
   "name": "python37664bitvisionengineconda838d932a94804d329f926ede73ba6fa3"
  },
  "language_info": {
   "codemirror_mode": {
    "name": "ipython",
    "version": 3
   },
   "file_extension": ".py",
   "mimetype": "text/x-python",
   "name": "python",
   "nbconvert_exporter": "python",
   "pygments_lexer": "ipython3",
   "version": "3.7.6"
  },
  "mimetype": "text/x-python",
  "name": "python",
  "npconvert_exporter": "python",
  "pygments_lexer": "ipython3",
  "version": 3
 },
 "nbformat": 4,
 "nbformat_minor": 2
}
