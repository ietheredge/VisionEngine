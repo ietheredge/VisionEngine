{
 "nbformat": 4,
 "nbformat_minor": 2,
 "metadata": {
  "language_info": {
   "name": "python",
   "codemirror_mode": {
    "name": "ipython",
    "version": 3
   },
   "version": "3.7.6-final"
  },
  "orig_nbformat": 2,
  "file_extension": ".py",
  "mimetype": "text/x-python",
  "name": "python",
  "npconvert_exporter": "python",
  "pygments_lexer": "ipython3",
  "version": 3,
  "kernelspec": {
   "name": "python37664bitvisionengineconda5529ed64c6944db79648eb9a1e091854",
   "display_name": "Python 3.7.6 64-bit ('VisionEngine': conda)"
  }
 },
 "cells": [
  {
   "cell_type": "code",
   "execution_count": 9,
   "metadata": {},
   "outputs": [],
   "source": [
    "from VisionEngine.utils.config import process_config\n",
    "from VisionEngine.utils import factory\n",
    "import sys\n",
    "\n",
    "import tensorflow as tf"
   ]
  },
  {
   "cell_type": "code",
   "execution_count": 2,
   "metadata": {},
   "outputs": [],
   "source": [
    "config_file = '../VisionEngine/configs/guppy_vae_config.json'\n",
    "config = process_config(config_file)"
   ]
  },
  {
   "cell_type": "code",
   "execution_count": 3,
   "metadata": {},
   "outputs": [
    {
     "name": "stdout",
     "output_type": "stream",
     "text": "importing VisionEngine.data_loaders.guppy_vae_data_loader\ngetattr GuppyDataLoader\n"
    }
   ],
   "source": [
    "data_loader = factory.create(\n",
    "            \"VisionEngine.data_loaders.\"+config.data_loader.name\n",
    "            )(config)"
   ]
  },
  {
   "cell_type": "code",
   "execution_count": 4,
   "metadata": {},
   "outputs": [
    {
     "name": "stdout",
     "output_type": "stream",
     "text": "importing VisionEngine.models.vae_model\ngetattr VAEModel\nModel: \"vlae\"\n__________________________________________________________________________________________________\nLayer (type)                    Output Shape         Param #     Connected to                     \n==================================================================================================\ninput_2 (InputLayer)            [(None, 256, 256, 3) 0                                            \n__________________________________________________________________________________________________\nencoder (Model)                 [(None, 984064), (No 9918848     input_2[0][0]                    \n__________________________________________________________________________________________________\nnormal_variational (NormalVaria (None, 10)           19681301    encoder[1][0]                    \n__________________________________________________________________________________________________\nnormal_variational_1 (NormalVar (None, 10)           4014101     encoder[1][1]                    \n__________________________________________________________________________________________________\nnormal_variational_2 (NormalVar (None, 10)           655381      encoder[1][2]                    \n__________________________________________________________________________________________________\nnormal_variational_3 (NormalVar (None, 10)           1310741     encoder[1][3]                    \n__________________________________________________________________________________________________\ndecoder (Model)                 (None, 256, 256, 3)  170820291   normal_variational[0][0]         \n                                                                 normal_variational_1[0][0]       \n                                                                 normal_variational_2[0][0]       \n                                                                 normal_variational_3[0][0]       \n==================================================================================================\nTotal params: 206,400,663\nTrainable params: 203,240,211\nNon-trainable params: 3,160,452\n__________________________________________________________________________________________________\n"
    }
   ],
   "source": [
    "model = factory.create(\n",
    "            \"VisionEngine.models.\"+config.model.name\n",
    "            )(config)"
   ]
  },
  {
   "cell_type": "code",
   "execution_count": 5,
   "metadata": {},
   "outputs": [],
   "source": [
    "checkpoint_path = '/home/etheredge/Workspace/VisionEngine/VisionEngine/models/checkpoints/guppy_vae/2020-056-15/guppy_vae-304-684.91.hdf5'"
   ]
  },
  {
   "cell_type": "code",
   "execution_count": 6,
   "metadata": {},
   "outputs": [
    {
     "name": "stdout",
     "output_type": "stream",
     "text": "Loading model checkpoint /home/etheredge/Workspace/VisionEngine/VisionEngine/models/checkpoints/guppy_vae/2020-056-15/guppy_vae-304-684.91.hdf5 ...\n\nModel loaded\n"
    }
   ],
   "source": [
    "model.load(checkpoint_path)"
   ]
  },
  {
   "cell_type": "code",
   "execution_count": 34,
   "metadata": {},
   "outputs": [],
   "source": [
    "def sample_likelihood(x, x_hat):\n",
    "    mse = - tf.losses.mean_squared_error(Flatten()(x), Flatten()(x_hat))\n",
    "    return tf.log(1./(tf.sqrt(2.*math.pi))*tf.exp(-.5*(mse)**2.))\n",
    "\n",
    "def embed_images(x):\n",
    "    x = model.model.get_layer('encoder').predict(x, batch_size=10)\n",
    "    return [model.model.get_layer('normal_variational')(x[0]), \n",
    "            model.model.get_layer('normal_variational_1')(x[1]),\n",
    "            model.model.get_layer('normal_variational_2')(x[2]),\n",
    "            model.model.get_layer('normal_variational_3')(x[3])]\n",
    "\n",
    "def reconstruct_images(z):\n",
    "    return model.model.get_layer('decoder').predict(z)"
   ]
  },
  {
   "cell_type": "code",
   "execution_count": 35,
   "metadata": {},
   "outputs": [
    {
     "ename": "NameError",
     "evalue": "name 'Flatten' is not defined",
     "output_type": "error",
     "traceback": [
      "\u001b[0;31m---------------------------------------------------------------------------\u001b[0m",
      "\u001b[0;31mNameError\u001b[0m                                 Traceback (most recent call last)",
      "\u001b[0;32m<ipython-input-35-c1268ded62a0>\u001b[0m in \u001b[0;36m<module>\u001b[0;34m\u001b[0m\n\u001b[1;32m      2\u001b[0m     \u001b[0mz\u001b[0m \u001b[0;34m=\u001b[0m \u001b[0membed_images\u001b[0m\u001b[0;34m(\u001b[0m\u001b[0mdata_loader\u001b[0m\u001b[0;34m.\u001b[0m\u001b[0mget_test_data\u001b[0m\u001b[0;34m(\u001b[0m\u001b[0;34m)\u001b[0m\u001b[0;34m[\u001b[0m\u001b[0;36m0\u001b[0m\u001b[0;34m]\u001b[0m\u001b[0;34m)\u001b[0m\u001b[0;34m\u001b[0m\u001b[0;34m\u001b[0m\u001b[0m\n\u001b[1;32m      3\u001b[0m     \u001b[0mx_hat\u001b[0m \u001b[0;34m=\u001b[0m \u001b[0mreconstruct_images\u001b[0m\u001b[0;34m(\u001b[0m\u001b[0mz\u001b[0m\u001b[0;34m)\u001b[0m\u001b[0;34m\u001b[0m\u001b[0;34m\u001b[0m\u001b[0m\n\u001b[0;32m----> 4\u001b[0;31m     \u001b[0mlikelihood\u001b[0m \u001b[0;34m=\u001b[0m \u001b[0msample_likelihood\u001b[0m\u001b[0;34m(\u001b[0m\u001b[0mdata_loader\u001b[0m\u001b[0;34m.\u001b[0m\u001b[0mget_test_data\u001b[0m\u001b[0;34m,\u001b[0m \u001b[0mx_hat\u001b[0m\u001b[0;34m)\u001b[0m\u001b[0;34m\u001b[0m\u001b[0;34m\u001b[0m\u001b[0m\n\u001b[0m",
      "\u001b[0;32m<ipython-input-34-06f80fea0924>\u001b[0m in \u001b[0;36msample_likelihood\u001b[0;34m(x, x_hat)\u001b[0m\n\u001b[1;32m      1\u001b[0m \u001b[0;32mdef\u001b[0m \u001b[0msample_likelihood\u001b[0m\u001b[0;34m(\u001b[0m\u001b[0mx\u001b[0m\u001b[0;34m,\u001b[0m \u001b[0mx_hat\u001b[0m\u001b[0;34m)\u001b[0m\u001b[0;34m:\u001b[0m\u001b[0;34m\u001b[0m\u001b[0;34m\u001b[0m\u001b[0m\n\u001b[0;32m----> 2\u001b[0;31m     \u001b[0mmse\u001b[0m \u001b[0;34m=\u001b[0m \u001b[0;34m-\u001b[0m \u001b[0mtf\u001b[0m\u001b[0;34m.\u001b[0m\u001b[0mlosses\u001b[0m\u001b[0;34m.\u001b[0m\u001b[0mmean_squared_error\u001b[0m\u001b[0;34m(\u001b[0m\u001b[0mFlatten\u001b[0m\u001b[0;34m(\u001b[0m\u001b[0;34m)\u001b[0m\u001b[0;34m(\u001b[0m\u001b[0mx\u001b[0m\u001b[0;34m)\u001b[0m\u001b[0;34m,\u001b[0m \u001b[0mFlatten\u001b[0m\u001b[0;34m(\u001b[0m\u001b[0;34m)\u001b[0m\u001b[0;34m(\u001b[0m\u001b[0mx_hat\u001b[0m\u001b[0;34m)\u001b[0m\u001b[0;34m)\u001b[0m\u001b[0;34m\u001b[0m\u001b[0;34m\u001b[0m\u001b[0m\n\u001b[0m\u001b[1;32m      3\u001b[0m     \u001b[0;32mreturn\u001b[0m \u001b[0mtf\u001b[0m\u001b[0;34m.\u001b[0m\u001b[0mlog\u001b[0m\u001b[0;34m(\u001b[0m\u001b[0;36m1.\u001b[0m\u001b[0;34m/\u001b[0m\u001b[0;34m(\u001b[0m\u001b[0mtf\u001b[0m\u001b[0;34m.\u001b[0m\u001b[0msqrt\u001b[0m\u001b[0;34m(\u001b[0m\u001b[0;36m2.\u001b[0m\u001b[0;34m*\u001b[0m\u001b[0mmath\u001b[0m\u001b[0;34m.\u001b[0m\u001b[0mpi\u001b[0m\u001b[0;34m)\u001b[0m\u001b[0;34m)\u001b[0m\u001b[0;34m*\u001b[0m\u001b[0mtf\u001b[0m\u001b[0;34m.\u001b[0m\u001b[0mexp\u001b[0m\u001b[0;34m(\u001b[0m\u001b[0;34m-\u001b[0m\u001b[0;36m.5\u001b[0m\u001b[0;34m*\u001b[0m\u001b[0;34m(\u001b[0m\u001b[0mmse\u001b[0m\u001b[0;34m)\u001b[0m\u001b[0;34m**\u001b[0m\u001b[0;36m2.\u001b[0m\u001b[0;34m)\u001b[0m\u001b[0;34m)\u001b[0m\u001b[0;34m\u001b[0m\u001b[0;34m\u001b[0m\u001b[0m\n\u001b[1;32m      4\u001b[0m \u001b[0;34m\u001b[0m\u001b[0m\n\u001b[1;32m      5\u001b[0m \u001b[0;32mdef\u001b[0m \u001b[0membed_images\u001b[0m\u001b[0;34m(\u001b[0m\u001b[0mx\u001b[0m\u001b[0;34m)\u001b[0m\u001b[0;34m:\u001b[0m\u001b[0;34m\u001b[0m\u001b[0;34m\u001b[0m\u001b[0m\n",
      "\u001b[0;31mNameError\u001b[0m: name 'Flatten' is not defined"
     ]
    }
   ],
   "source": [
    "with tf.device(\"GPU:0\"):\n",
    "    z = embed_images(data_loader.get_test_data()[0])\n",
    "    x_hat = reconstruct_images(z)\n",
    "    likelihood = sample_likelihood(data_loader.get_test_data, x_hat)"
   ]
  },
  {
   "cell_type": "code",
   "execution_count": 33,
   "metadata": {},
   "outputs": [
    {
     "name": "stdout",
     "output_type": "stream",
     "text": "input_2\nencoder\nnormal_variational\nnormal_variational_1\nnormal_variational_2\nnormal_variational_3\ndecoder\n"
    }
   ],
   "source": [
    "for layer in model.model.layers:\n",
    "    print(layer.name)"
   ]
  },
  {
   "cell_type": "code",
   "execution_count": null,
   "metadata": {},
   "outputs": [],
   "source": []
  }
 ]
}