{
 "cells": [
  {
   "cell_type": "code",
   "execution_count": 1,
   "metadata": {},
   "outputs": [],
   "source": [
    "from PIL import Image\n",
    "import glob\n",
    "from itertools import product\n",
    "import numpy as np"
   ]
  },
  {
   "cell_type": "code",
   "execution_count": 2,
   "metadata": {},
   "outputs": [],
   "source": [
    "n_trv_exmp=10\n",
    "n_trv_stps=10"
   ]
  },
  {
   "cell_type": "code",
   "execution_count": 3,
   "metadata": {},
   "outputs": [],
   "source": [
    "folder = '*samples'"
   ]
  },
  {
   "cell_type": "code",
   "execution_count": 4,
   "metadata": {},
   "outputs": [],
   "source": [
    "files = glob.glob('/home/etheredge/Workspace/VisionEngine/notebooks/{}/*.png'.format(folder))\n",
    "files = np.random.choice(files, n_trv_exmp*n_trv_stps)"
   ]
  },
  {
   "cell_type": "code",
   "execution_count": 5,
   "metadata": {},
   "outputs": [
    {
     "data": {
      "text/plain": [
       "array(['/home/etheredge/Workspace/VisionEngine/notebooks/test_outputs_0_samples/00675.png',\n",
       "       '/home/etheredge/Workspace/VisionEngine/notebooks/test_outputs_23_samples/00909.png',\n",
       "       '/home/etheredge/Workspace/VisionEngine/notebooks/test_outputs_17_samples/00790.png',\n",
       "       '/home/etheredge/Workspace/VisionEngine/notebooks/test_outputs_12_samples/00111.png',\n",
       "       '/home/etheredge/Workspace/VisionEngine/notebooks/test_outputs_25_samples/00663.png',\n",
       "       '/home/etheredge/Workspace/VisionEngine/notebooks/test_outputs_3_samples/00302.png',\n",
       "       '/home/etheredge/Workspace/VisionEngine/notebooks/test_outputs_4_samples/00026.png',\n",
       "       '/home/etheredge/Workspace/VisionEngine/notebooks/test_outputs_21_samples/00993.png',\n",
       "       '/home/etheredge/Workspace/VisionEngine/notebooks/test_outputs_31_samples/00960.png',\n",
       "       '/home/etheredge/Workspace/VisionEngine/notebooks/test_outputs_2_samples/00935.png',\n",
       "       '/home/etheredge/Workspace/VisionEngine/notebooks/test_outputs_20_samples/00807.png',\n",
       "       '/home/etheredge/Workspace/VisionEngine/notebooks/test_outputs_20_samples/00588.png',\n",
       "       '/home/etheredge/Workspace/VisionEngine/notebooks/test_outputs_18_samples/00694.png',\n",
       "       '/home/etheredge/Workspace/VisionEngine/notebooks/test_outputs_19_samples/00000.png',\n",
       "       '/home/etheredge/Workspace/VisionEngine/notebooks/test_outputs_26_samples/00052.png',\n",
       "       '/home/etheredge/Workspace/VisionEngine/notebooks/test_outputs_22_samples/00563.png',\n",
       "       '/home/etheredge/Workspace/VisionEngine/notebooks/test_outputs_15_samples/00484.png',\n",
       "       '/home/etheredge/Workspace/VisionEngine/notebooks/test_outputs_4_samples/00356.png',\n",
       "       '/home/etheredge/Workspace/VisionEngine/notebooks/test_outputs_23_samples/00147.png',\n",
       "       '/home/etheredge/Workspace/VisionEngine/notebooks/test_outputs_26_samples/00163.png',\n",
       "       '/home/etheredge/Workspace/VisionEngine/notebooks/test_outputs_11_samples/00506.png',\n",
       "       '/home/etheredge/Workspace/VisionEngine/notebooks/test_outputs_3_samples/00936.png',\n",
       "       '/home/etheredge/Workspace/VisionEngine/notebooks/test_outputs_31_samples/00706.png',\n",
       "       '/home/etheredge/Workspace/VisionEngine/notebooks/test_outputs_27_samples/00300.png',\n",
       "       '/home/etheredge/Workspace/VisionEngine/notebooks/test_outputs_18_samples/00482.png',\n",
       "       '/home/etheredge/Workspace/VisionEngine/notebooks/test_outputs_13_samples/00635.png',\n",
       "       '/home/etheredge/Workspace/VisionEngine/notebooks/test_outputs_10_samples/00312.png',\n",
       "       '/home/etheredge/Workspace/VisionEngine/notebooks/test_outputs_15_samples/00448.png',\n",
       "       '/home/etheredge/Workspace/VisionEngine/notebooks/test_outputs_23_samples/00551.png',\n",
       "       '/home/etheredge/Workspace/VisionEngine/notebooks/test_outputs_16_samples/00584.png',\n",
       "       '/home/etheredge/Workspace/VisionEngine/notebooks/test_outputs_22_samples/00678.png',\n",
       "       '/home/etheredge/Workspace/VisionEngine/notebooks/test_outputs_5_samples/00703.png',\n",
       "       '/home/etheredge/Workspace/VisionEngine/notebooks/test_outputs_30_samples/00291.png',\n",
       "       '/home/etheredge/Workspace/VisionEngine/notebooks/test_outputs_1_samples/00822.png',\n",
       "       '/home/etheredge/Workspace/VisionEngine/notebooks/test_outputs_10_samples/00851.png',\n",
       "       '/home/etheredge/Workspace/VisionEngine/notebooks/test_outputs_27_samples/00592.png',\n",
       "       '/home/etheredge/Workspace/VisionEngine/notebooks/test_outputs_5_samples/00322.png',\n",
       "       '/home/etheredge/Workspace/VisionEngine/notebooks/test_outputs_18_samples/00489.png',\n",
       "       '/home/etheredge/Workspace/VisionEngine/notebooks/test_outputs_26_samples/00611.png',\n",
       "       '/home/etheredge/Workspace/VisionEngine/notebooks/test_outputs_7_samples/00058.png',\n",
       "       '/home/etheredge/Workspace/VisionEngine/notebooks/test_outputs_27_samples/00939.png',\n",
       "       '/home/etheredge/Workspace/VisionEngine/notebooks/test_outputs_15_samples/00082.png',\n",
       "       '/home/etheredge/Workspace/VisionEngine/notebooks/test_outputs_31_samples/00268.png',\n",
       "       '/home/etheredge/Workspace/VisionEngine/notebooks/test_outputs_31_samples/00440.png',\n",
       "       '/home/etheredge/Workspace/VisionEngine/notebooks/test_outputs_7_samples/00752.png',\n",
       "       '/home/etheredge/Workspace/VisionEngine/notebooks/test_outputs_24_samples/00796.png',\n",
       "       '/home/etheredge/Workspace/VisionEngine/notebooks/test_outputs_27_samples/00744.png',\n",
       "       '/home/etheredge/Workspace/VisionEngine/notebooks/test_outputs_20_samples/00435.png',\n",
       "       '/home/etheredge/Workspace/VisionEngine/notebooks/test_outputs_11_samples/00351.png',\n",
       "       '/home/etheredge/Workspace/VisionEngine/notebooks/test_outputs_9_samples/00144.png',\n",
       "       '/home/etheredge/Workspace/VisionEngine/notebooks/test_outputs_29_samples/00017.png',\n",
       "       '/home/etheredge/Workspace/VisionEngine/notebooks/test_outputs_17_samples/00327.png',\n",
       "       '/home/etheredge/Workspace/VisionEngine/notebooks/test_outputs_3_samples/00136.png',\n",
       "       '/home/etheredge/Workspace/VisionEngine/notebooks/test_outputs_23_samples/00465.png',\n",
       "       '/home/etheredge/Workspace/VisionEngine/notebooks/test_outputs_7_samples/00873.png',\n",
       "       '/home/etheredge/Workspace/VisionEngine/notebooks/test_outputs_31_samples/00251.png',\n",
       "       '/home/etheredge/Workspace/VisionEngine/notebooks/test_outputs_30_samples/00563.png',\n",
       "       '/home/etheredge/Workspace/VisionEngine/notebooks/test_outputs_25_samples/00626.png',\n",
       "       '/home/etheredge/Workspace/VisionEngine/notebooks/test_outputs_5_samples/00204.png',\n",
       "       '/home/etheredge/Workspace/VisionEngine/notebooks/test_outputs_17_samples/00749.png',\n",
       "       '/home/etheredge/Workspace/VisionEngine/notebooks/test_outputs_7_samples/00053.png',\n",
       "       '/home/etheredge/Workspace/VisionEngine/notebooks/test_outputs_0_samples/00488.png',\n",
       "       '/home/etheredge/Workspace/VisionEngine/notebooks/test_outputs_22_samples/00821.png',\n",
       "       '/home/etheredge/Workspace/VisionEngine/notebooks/test_outputs_8_samples/00908.png',\n",
       "       '/home/etheredge/Workspace/VisionEngine/notebooks/test_outputs_17_samples/00773.png',\n",
       "       '/home/etheredge/Workspace/VisionEngine/notebooks/test_outputs_16_samples/00742.png',\n",
       "       '/home/etheredge/Workspace/VisionEngine/notebooks/test_outputs_4_samples/00156.png',\n",
       "       '/home/etheredge/Workspace/VisionEngine/notebooks/test_outputs_0_samples/00824.png',\n",
       "       '/home/etheredge/Workspace/VisionEngine/notebooks/test_outputs_8_samples/00801.png',\n",
       "       '/home/etheredge/Workspace/VisionEngine/notebooks/test_outputs_25_samples/00120.png',\n",
       "       '/home/etheredge/Workspace/VisionEngine/notebooks/test_outputs_27_samples/00464.png',\n",
       "       '/home/etheredge/Workspace/VisionEngine/notebooks/test_outputs_24_samples/00725.png',\n",
       "       '/home/etheredge/Workspace/VisionEngine/notebooks/test_outputs_2_samples/00880.png',\n",
       "       '/home/etheredge/Workspace/VisionEngine/notebooks/test_outputs_1_samples/00693.png',\n",
       "       '/home/etheredge/Workspace/VisionEngine/notebooks/test_outputs_10_samples/00842.png',\n",
       "       '/home/etheredge/Workspace/VisionEngine/notebooks/test_outputs_10_samples/00924.png',\n",
       "       '/home/etheredge/Workspace/VisionEngine/notebooks/test_outputs_26_samples/00028.png',\n",
       "       '/home/etheredge/Workspace/VisionEngine/notebooks/test_outputs_29_samples/00045.png',\n",
       "       '/home/etheredge/Workspace/VisionEngine/notebooks/test_outputs_0_samples/00086.png',\n",
       "       '/home/etheredge/Workspace/VisionEngine/notebooks/test_outputs_14_samples/00423.png',\n",
       "       '/home/etheredge/Workspace/VisionEngine/notebooks/test_outputs_16_samples/00347.png',\n",
       "       '/home/etheredge/Workspace/VisionEngine/notebooks/test_outputs_16_samples/00754.png',\n",
       "       '/home/etheredge/Workspace/VisionEngine/notebooks/test_outputs_30_samples/00018.png',\n",
       "       '/home/etheredge/Workspace/VisionEngine/notebooks/test_outputs_7_samples/00990.png',\n",
       "       '/home/etheredge/Workspace/VisionEngine/notebooks/test_outputs_3_samples/00794.png',\n",
       "       '/home/etheredge/Workspace/VisionEngine/notebooks/test_outputs_1_samples/00429.png',\n",
       "       '/home/etheredge/Workspace/VisionEngine/notebooks/test_outputs_24_samples/00399.png',\n",
       "       '/home/etheredge/Workspace/VisionEngine/notebooks/test_outputs_24_samples/00021.png',\n",
       "       '/home/etheredge/Workspace/VisionEngine/notebooks/test_outputs_2_samples/00074.png',\n",
       "       '/home/etheredge/Workspace/VisionEngine/notebooks/test_outputs_0_samples/00623.png',\n",
       "       '/home/etheredge/Workspace/VisionEngine/notebooks/test_outputs_24_samples/00586.png',\n",
       "       '/home/etheredge/Workspace/VisionEngine/notebooks/test_outputs_0_samples/00516.png',\n",
       "       '/home/etheredge/Workspace/VisionEngine/notebooks/test_outputs_24_samples/00825.png',\n",
       "       '/home/etheredge/Workspace/VisionEngine/notebooks/test_outputs_9_samples/00821.png',\n",
       "       '/home/etheredge/Workspace/VisionEngine/notebooks/test_outputs_28_samples/00319.png',\n",
       "       '/home/etheredge/Workspace/VisionEngine/notebooks/test_outputs_27_samples/00974.png',\n",
       "       '/home/etheredge/Workspace/VisionEngine/notebooks/test_outputs_19_samples/00265.png',\n",
       "       '/home/etheredge/Workspace/VisionEngine/notebooks/test_outputs_12_samples/00479.png',\n",
       "       '/home/etheredge/Workspace/VisionEngine/notebooks/test_outputs_25_samples/00889.png',\n",
       "       '/home/etheredge/Workspace/VisionEngine/notebooks/test_outputs_15_samples/00576.png'],\n",
       "      dtype='<U82')"
      ]
     },
     "execution_count": 5,
     "metadata": {},
     "output_type": "execute_result"
    }
   ],
   "source": [
    "files"
   ]
  },
  {
   "cell_type": "code",
   "execution_count": 69,
   "metadata": {},
   "outputs": [],
   "source": [
    "exim = Image.open(files[0])"
   ]
  },
  {
   "cell_type": "code",
   "execution_count": 70,
   "metadata": {},
   "outputs": [],
   "source": [
    "trav1 = Image.new('RGBA', (exim.width*n_trv_stps,exim.height*n_trv_exmp))\n",
    "locs = list(product(range(n_trv_exmp),range(n_trv_stps)))\n",
    "for i, file in enumerate(files):\n",
    "    j, k = locs[i]\n",
    "    trav1.paste(Image.open(file), (k*exim.width, j*exim.height))\n",
    "trav1.save('infoGANclass{}.jpg'.format(folder))\n"
   ]
  },
  {
   "cell_type": "code",
   "execution_count": 6,
   "metadata": {},
   "outputs": [
    {
     "ename": "FileNotFoundError",
     "evalue": "[Errno 2] No such file or directory: 'x.png'",
     "output_type": "error",
     "traceback": [
      "\u001b[0;31m---------------------------------------------------------------------------\u001b[0m",
      "\u001b[0;31mFileNotFoundError\u001b[0m                         Traceback (most recent call last)",
      "\u001b[0;32m<ipython-input-6-59ab88f9655a>\u001b[0m in \u001b[0;36m<module>\u001b[0;34m\u001b[0m\n\u001b[0;32m----> 1\u001b[0;31m \u001b[0mimgobj\u001b[0m \u001b[0;34m=\u001b[0m \u001b[0mImage\u001b[0m\u001b[0;34m.\u001b[0m\u001b[0mopen\u001b[0m\u001b[0;34m(\u001b[0m\u001b[0;34m'x.png'\u001b[0m\u001b[0;34m)\u001b[0m\u001b[0;34m\u001b[0m\u001b[0;34m\u001b[0m\u001b[0m\n\u001b[0m",
      "\u001b[0;32m~/miniconda3/envs/VisionEngine/lib/python3.7/site-packages/PIL/Image.py\u001b[0m in \u001b[0;36mopen\u001b[0;34m(fp, mode)\u001b[0m\n\u001b[1;32m   2807\u001b[0m \u001b[0;34m\u001b[0m\u001b[0m\n\u001b[1;32m   2808\u001b[0m     \u001b[0;32mif\u001b[0m \u001b[0mfilename\u001b[0m\u001b[0;34m:\u001b[0m\u001b[0;34m\u001b[0m\u001b[0;34m\u001b[0m\u001b[0m\n\u001b[0;32m-> 2809\u001b[0;31m         \u001b[0mfp\u001b[0m \u001b[0;34m=\u001b[0m \u001b[0mbuiltins\u001b[0m\u001b[0;34m.\u001b[0m\u001b[0mopen\u001b[0m\u001b[0;34m(\u001b[0m\u001b[0mfilename\u001b[0m\u001b[0;34m,\u001b[0m \u001b[0;34m\"rb\"\u001b[0m\u001b[0;34m)\u001b[0m\u001b[0;34m\u001b[0m\u001b[0;34m\u001b[0m\u001b[0m\n\u001b[0m\u001b[1;32m   2810\u001b[0m         \u001b[0mexclusive_fp\u001b[0m \u001b[0;34m=\u001b[0m \u001b[0;32mTrue\u001b[0m\u001b[0;34m\u001b[0m\u001b[0;34m\u001b[0m\u001b[0m\n\u001b[1;32m   2811\u001b[0m \u001b[0;34m\u001b[0m\u001b[0m\n",
      "\u001b[0;31mFileNotFoundError\u001b[0m: [Errno 2] No such file or directory: 'x.png'"
     ]
    }
   ],
   "source": [
    "imgobj = Image.open('x.png')\n"
   ]
  },
  {
   "cell_type": "code",
   "execution_count": null,
   "metadata": {},
   "outputs": [],
   "source": []
  },
  {
   "cell_type": "code",
   "execution_count": null,
   "metadata": {},
   "outputs": [],
   "source": []
  },
  {
   "cell_type": "code",
   "execution_count": 1,
   "metadata": {},
   "outputs": [],
   "source": [
    "import matplotlib.pyplot as plt\n",
    "from matplotlib.offsetbox import OffsetImage, AnnotationBbox\n",
    "plt.clf()\n",
    "plt.style.use('classic')\n",
    "plt.rcParams.update({'font.size': 30})\n",
    "def imscatter(x, y, image, ax=None, zoom=1):\n",
    "    if ax is None:\n",
    "        ax = plt.gca()\n",
    "    try:\n",
    "        image = plt.imread(image)\n",
    "    except TypeError:\n",
    "        # Likely already an array...\n",
    "        pass\n",
    "    x, y = np.atleast_1d(x, y)\n",
    "    artists = []\n",
    "    for i, (x0, y0) in enumerate(zip(x, y)):\n",
    "        im = OffsetImage(image[i], zoom=zoom)\n",
    "        ab = AnnotationBbox(im, (x0, y0), xycoords='data', frameon=False)\n",
    "        artists.append(ax.add_artist(ab))\n",
    "    ax.update_datalim(np.column_stack([x, y]))\n",
    "    ax.autoscale()\n",
    "    ax.grid(False)\n",
    "    return artists"
   ]
  },
  {
   "cell_type": "code",
   "execution_count": null,
   "metadata": {},
   "outputs": [],
   "source": [
    "images = np.load('/home/etheredge/Workspace/VLAE/images.npy')"
   ]
  },
  {
   "cell_type": "code",
   "execution_count": null,
   "metadata": {},
   "outputs": [],
   "source": [
    "fig, ax = plt.subplots(figsize=(25,25))\n",
    "Y = np.array(Y)\n",
    "classnames, indices = np.unique(Y, return_inverse=True)\n",
    "N = len(classnames)\n",
    "ax = plt.subplot(1,1,1)\n",
    "cmap = plt.cm.rainbow\n",
    "bounds = np.linspace(0,N,N+1)\n",
    "norm = mpl.colors.BoundaryNorm(bounds, cmap.N)\n",
    "imscatter(embedding[:, 0], embedding[:, 1], images, zoom=0.08, ax=ax)"
   ]
  }
 ],
 "metadata": {
  "kernelspec": {
   "display_name": "Python 3",
   "language": "python",
   "name": "python3"
  },
  "language_info": {
   "codemirror_mode": {
    "name": "ipython",
    "version": 3
   },
   "file_extension": ".py",
   "mimetype": "text/x-python",
   "name": "python",
   "nbconvert_exporter": "python",
   "pygments_lexer": "ipython3",
   "version": "3.7.6"
  }
 },
 "nbformat": 4,
 "nbformat_minor": 2
}
