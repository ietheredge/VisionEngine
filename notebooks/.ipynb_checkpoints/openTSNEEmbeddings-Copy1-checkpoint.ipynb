{
 "cells": [
  {
   "cell_type": "code",
   "execution_count": 1,
   "metadata": {},
   "outputs": [],
   "source": [
    "from openTSNE import TSNE\n",
    "from openTSNE.callbacks import ErrorLogger\n",
    "import numpy as np"
   ]
  },
  {
   "cell_type": "code",
   "execution_count": 2,
   "metadata": {},
   "outputs": [],
   "source": [
    "pr = np.load('../data/processed/pr.npy')\n",
    "pr = np.transpose(pr, (0,2,1,3))\n",
    "pr = pr.reshape(1000,1000,40)\n",
    "pr = pr.reshape(1000000, 40)\n",
    "# h_3 = np.load('../data/processed/h_3.npy')\n",
    "# h_2 = np.load('../data/processed/h_2.npy')\n",
    "# h_1 = np.load('../data/processed/h_1.npy')\n",
    "# h_0 = np.load('../data/processed/h_0.npy')\n",
    "# h_3g = np.load('../data/processed/h_3_gan.npy')\n",
    "# h_2g = np.load('../data/processed/h_2_gan.npy')\n",
    "# h_1g = np.load('../data/processed/h_1_gan.npy')\n",
    "# h_0g = np.load('../data/processed/h_0_gan.npy')\n",
    "# Z_real = np.concatenate([h_0, h_1, h_2, h_3],axis=1)\n",
    "# Z_gan = np.concatenate([h_0g, h_1g, h_2g, h_3g],axis=1)"
   ]
  },
  {
   "cell_type": "code",
   "execution_count": null,
   "metadata": {},
   "outputs": [],
   "source": []
  },
  {
   "cell_type": "code",
   "execution_count": 3,
   "metadata": {},
   "outputs": [],
   "source": [
    "Z = pr"
   ]
  },
  {
   "cell_type": "code",
   "execution_count": 4,
   "metadata": {},
   "outputs": [],
   "source": [
    "tsne = TSNE(callbacks=ErrorLogger(), n_jobs=-1, learning_rate=Z.shape[0]/12, exaggeration=4)"
   ]
  },
  {
   "cell_type": "code",
   "execution_count": 5,
   "metadata": {
    "scrolled": true
   },
   "outputs": [
    {
     "name": "stderr",
     "output_type": "stream",
     "text": [
      "/home/etheredge/miniconda3/envs/36/lib/python3.6/site-packages/scipy/sparse/_index.py:126: SparseEfficiencyWarning: Changing the sparsity structure of a csr_matrix is expensive. lil_matrix is more efficient.\n",
      "  self._set_arrayXarray(i, j, x)\n"
     ]
    },
    {
     "name": "stdout",
     "output_type": "stream",
     "text": [
      "Iteration   50, KL divergence    nan, 50 iterations in 28.1573 sec\n",
      "Iteration  100, KL divergence    nan, 50 iterations in 28.2195 sec\n",
      "Iteration  150, KL divergence    nan, 50 iterations in 27.8180 sec\n",
      "Iteration  200, KL divergence    nan, 50 iterations in 27.8005 sec\n",
      "Iteration  250, KL divergence    nan, 50 iterations in 27.2672 sec\n",
      "Iteration   50, KL divergence    nan, 50 iterations in 26.9634 sec\n",
      "Iteration  100, KL divergence    nan, 50 iterations in 28.0440 sec\n",
      "Iteration  150, KL divergence    nan, 50 iterations in 28.7001 sec\n",
      "Iteration  200, KL divergence    nan, 50 iterations in 29.2759 sec\n",
      "Iteration  250, KL divergence    nan, 50 iterations in 29.8158 sec\n",
      "Iteration  300, KL divergence    nan, 50 iterations in 31.7692 sec\n",
      "Iteration  350, KL divergence    nan, 50 iterations in 31.8313 sec\n",
      "Iteration  400, KL divergence    nan, 50 iterations in 33.5493 sec\n",
      "Iteration  450, KL divergence    nan, 50 iterations in 37.0647 sec\n",
      "Iteration  500, KL divergence    nan, 50 iterations in 35.1639 sec\n",
      "Iteration  550, KL divergence    nan, 50 iterations in 38.3899 sec\n",
      "Iteration  600, KL divergence    nan, 50 iterations in 41.9817 sec\n",
      "Iteration  650, KL divergence    nan, 50 iterations in 41.0243 sec\n",
      "Iteration  700, KL divergence    nan, 50 iterations in 48.2179 sec\n",
      "Iteration  750, KL divergence    nan, 50 iterations in 47.5728 sec\n"
     ]
    }
   ],
   "source": [
    "embedded = tsne.fit(Z)"
   ]
  },
  {
   "cell_type": "code",
   "execution_count": 12,
   "metadata": {},
   "outputs": [],
   "source": [
    "embedding = embedded"
   ]
  },
  {
   "cell_type": "code",
   "execution_count": null,
   "metadata": {},
   "outputs": [
    {
     "name": "stdout",
     "output_type": "stream",
     "text": [
      "0\n",
      "0 1000\n",
      "1\n",
      "1000 2000\n",
      "2\n",
      "2000 3000\n",
      "3\n",
      "3000 4000\n",
      "4\n",
      "4000 5000\n",
      "5\n",
      "5000 6000\n",
      "6\n",
      "6000 7000\n",
      "7\n",
      "7000 8000\n",
      "8\n",
      "8000 9000\n",
      "9\n",
      "9000 10000\n",
      "10\n",
      "10000 11000\n",
      "11\n",
      "11000 12000\n",
      "12\n",
      "12000 13000\n",
      "13\n",
      "13000 14000\n",
      "14\n",
      "14000 15000\n",
      "15\n",
      "15000 16000\n",
      "16\n",
      "16000 17000\n",
      "17\n",
      "17000 18000\n",
      "18\n",
      "18000 19000\n",
      "19\n",
      "19000 20000\n",
      "20\n",
      "20000 21000\n",
      "21\n",
      "21000 22000\n",
      "22\n",
      "22000 23000\n",
      "23\n",
      "23000 24000\n",
      "24\n",
      "24000 25000\n",
      "25\n",
      "25000 26000\n",
      "26\n",
      "26000 27000\n",
      "27\n",
      "27000 28000\n",
      "28\n",
      "28000 29000\n",
      "29\n",
      "29000 30000\n",
      "30\n",
      "30000 31000\n",
      "31\n",
      "31000 32000\n",
      "32\n",
      "32000 33000\n",
      "33\n",
      "33000 34000\n",
      "34\n",
      "34000 35000\n",
      "35\n",
      "35000 36000\n",
      "36\n",
      "36000 37000\n",
      "37\n",
      "37000 38000\n",
      "38\n",
      "38000 39000\n",
      "39\n",
      "39000 40000\n",
      "40\n",
      "40000 41000\n",
      "41\n",
      "41000 42000\n",
      "42\n",
      "42000 43000\n",
      "43\n",
      "43000 44000\n",
      "44\n",
      "44000 45000\n",
      "45\n",
      "45000 46000\n",
      "46\n",
      "46000 47000\n",
      "47\n",
      "47000 48000\n",
      "48\n",
      "48000 49000\n",
      "49\n",
      "49000 50000\n",
      "50\n",
      "50000 51000\n",
      "51\n",
      "51000 52000\n",
      "52\n",
      "52000 53000\n",
      "53\n",
      "53000 54000\n",
      "54\n",
      "54000 55000\n",
      "55\n",
      "55000 56000\n",
      "56\n",
      "56000 57000\n",
      "57\n",
      "57000 58000\n",
      "58\n",
      "58000 59000\n",
      "59\n",
      "59000 60000\n",
      "60\n",
      "60000 61000\n",
      "61\n",
      "61000 62000\n"
     ]
    }
   ],
   "source": [
    "for i in range(1000):\n",
    "    print(i)\n",
    "    strt = i * 1000\n",
    "    stop = strt + 1000\n",
    "    print(strt, stop)\n",
    "    plt.clf()\n",
    "    plt.figure(figsize=(20,20))\n",
    "    strt = i*1000\n",
    "    stp = strt + 1000\n",
    "    h, x, y, p = plt.hist2d(\n",
    "        embedding[strt:stop,0],\n",
    "        embedding[strt:stop,1], \n",
    "        20,\n",
    "        [[np.min(embedding[:,0]),np.max(embedding[:,0])],\n",
    "         [np.min(embedding[:,1]),np.max(embedding[:,1])]])\n",
    "    plt.clf()\n",
    "    plt.imshow(h, origin = \"lower\", interpolation = \"gaussian\")\n",
    "    fig = plt.gcf()\n",
    "    fig.savefig('../report/figures/images/evolve_latents/{:03d}.png'.format(i), dpi=300)\n",
    "    plt.close()"
   ]
  },
  {
   "cell_type": "code",
   "execution_count": 7,
   "metadata": {},
   "outputs": [],
   "source": [
    "import matplotlib.pyplot as plt"
   ]
  },
  {
   "cell_type": "code",
   "execution_count": 20,
   "metadata": {},
   "outputs": [
    {
     "data": {
      "text/plain": [
       "(array([[0., 0., 0., ..., 0., 0., 0.],\n",
       "        [0., 0., 0., ..., 0., 0., 0.],\n",
       "        [0., 0., 0., ..., 0., 0., 0.],\n",
       "        ...,\n",
       "        [0., 0., 0., ..., 0., 0., 0.],\n",
       "        [0., 0., 0., ..., 0., 0., 0.],\n",
       "        [0., 0., 0., ..., 0., 0., 0.]]),\n",
       " array([-40.18025625, -38.05559665, -35.93093705, -33.80627745,\n",
       "        -31.68161785, -29.55695825, -27.43229865, -25.30763905,\n",
       "        -23.18297945, -21.05831985, -18.93366025, -16.80900065,\n",
       "        -14.68434105, -12.55968145, -10.43502185,  -8.31036225,\n",
       "         -6.18570265,  -4.06104305,  -1.93638345,   0.18827615,\n",
       "          2.31293575,   4.43759534,   6.56225494,   8.68691454,\n",
       "         10.81157414,  12.93623374,  15.06089334,  17.18555294,\n",
       "         19.31021254,  21.43487214,  23.55953174,  25.68419134,\n",
       "         27.80885094,  29.93351054,  32.05817014,  34.18282974,\n",
       "         36.30748934,  38.43214894,  40.55680854,  42.68146814,\n",
       "         44.80612774,  46.93078734,  49.05544694,  51.18010654,\n",
       "         53.30476614,  55.42942574,  57.55408533,  59.67874493,\n",
       "         61.80340453,  63.92806413,  66.05272373]),\n",
       " array([-46.15182075, -44.11978558, -42.08775041, -40.05571524,\n",
       "        -38.02368007, -35.9916449 , -33.95960973, -31.92757456,\n",
       "        -29.89553939, -27.86350423, -25.83146906, -23.79943389,\n",
       "        -21.76739872, -19.73536355, -17.70332838, -15.67129321,\n",
       "        -13.63925804, -11.60722287,  -9.5751877 ,  -7.54315253,\n",
       "         -5.51111736,  -3.47908219,  -1.44704702,   0.58498815,\n",
       "          2.61702332,   4.64905849,   6.68109366,   8.71312883,\n",
       "         10.745164  ,  12.77719917,  14.80923434,  16.84126951,\n",
       "         18.87330468,  20.90533985,  22.93737502,  24.96941019,\n",
       "         27.00144536,  29.03348053,  31.0655157 ,  33.09755087,\n",
       "         35.12958604,  37.16162121,  39.19365638,  41.22569155,\n",
       "         43.25772672,  45.28976189,  47.32179706,  49.35383223,\n",
       "         51.3858674 ,  53.41790257,  55.44993774]),\n",
       " <matplotlib.collections.QuadMesh at 0x7fdbdcbf81d0>)"
      ]
     },
     "execution_count": 20,
     "metadata": {},
     "output_type": "execute_result"
    },
    {
     "data": {
      "image/png": "[encoded data removed]",
      "text/plain": [
       "<Figure size 432x288 with 1 Axes>"
      ]
     },
     "metadata": {
      "needs_background": "light"
     },
     "output_type": "display_data"
    }
   ],
   "source": [
    "strt = 1000000\n",
    "stop = -1\n",
    "plt.hist2d(embedded[strt:stop, 0], embedded[strt:stop, 1],bins=50)"
   ]
  },
  {
   "cell_type": "code",
   "execution_count": null,
   "metadata": {},
   "outputs": [],
   "source": []
  }
 ],
 "metadata": {
  "kernelspec": {
   "display_name": "Python 3",
   "language": "python",
   "name": "python3"
  },
  "language_info": {
   "codemirror_mode": {
    "name": "ipython",
    "version": 3
   },
   "file_extension": ".py",
   "mimetype": "text/x-python",
   "name": "python",
   "nbconvert_exporter": "python",
   "pygments_lexer": "ipython3",
   "version": "3.6.7"
  }
 },
 "nbformat": 4,
 "nbformat_minor": 4
}
