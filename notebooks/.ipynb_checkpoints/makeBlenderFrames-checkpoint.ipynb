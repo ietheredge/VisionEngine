{
 "cells": [
  {
   "cell_type": "code",
   "execution_count": 5,
   "metadata": {},
   "outputs": [],
   "source": [
    "import os\n",
    "os.environ[\"CUDA_DEVICE_ORDER\"]=\"PCI_BUS_ID\"   # see issue #152\n",
    "os.environ[\"CUDA_VISIBLE_DEVICES\"]=\"1\"\n",
    "import tensorflow as tf\n",
    "import numpy as np\n",
    "from PIL import Image\n",
    "from itertools import product\n",
    "import math\n",
    "import os\n",
    "from tensorflow.keras.layers import Flatten\n",
    "\n",
    "\n",
    "model_folder = '../checkpoints/vlae_mmd_all'\n",
    "image_output_folder = '../reports/figures/images'\n",
    "plot_output_folder = '../reports/figures/panels'\n",
    "n_latents = 4 \n",
    "latent_size = 10"
   ]
  },
  {
   "cell_type": "code",
   "execution_count": 6,
   "metadata": {},
   "outputs": [
    {
     "name": "stdout",
     "output_type": "stream",
     "text": [
      "WARNING:tensorflow:Output output_1 missing from loss dictionary. We assume this was done on purpose. The fit and evaluate APIs will not be expecting any data to be passed to output_1.\n"
     ]
    }
   ],
   "source": [
    "#TODO: Move these functions to separate dataprocessing util\n",
    "def custom_loss(x, xhat):\n",
    "    return  .5 * tf.losses.mean_squared_error(tf.keras.layers.Flatten()(x), tf.keras.layers.Flatten()(xhat)) * np.prod([256,256,3])\n",
    "\n",
    "def sample_likelihood(x, x_hat):\n",
    "    mse = - tf.losses.mean_squared_error(Flatten()(x), Flatten()(x_hat))\n",
    "    return 1./(tf.sqrt(2.*math.pi))*tf.exp(-.5*(mse)**2.)\n",
    "\n",
    "def embed_images(x):\n",
    "    x = vae.get_layer('encoder').predict(x, batch_size=10)\n",
    "    return [vae.get_layer('z_1_latent')(x[0]), \n",
    "            vae.get_layer('z_2_latent')(x[1]),\n",
    "            vae.get_layer('z_3_latent')(x[2]),\n",
    "            vae.get_layer('z_4_latent')(x[3])]\n",
    "\n",
    "def reconstruct_images(z):\n",
    "    return vae.get_layer('decoder').predict(z)\n",
    "\n",
    "vae = tf.keras.models.load_model(model_folder, custom_objects={'loss': custom_loss}, compile=False)\n",
    "vae.compile()"
   ]
  },
  {
   "cell_type": "code",
   "execution_count": 7,
   "metadata": {},
   "outputs": [
    {
     "name": "stdout",
     "output_type": "stream",
     "text": [
      "WARNING:tensorflow:Layer flatten is casting an input tensor from dtype float64 to the layer's dtype of float32, which is new behavior in TensorFlow 2.  The layer has dtype float32 because it's dtype defaults to floatx.\n",
      "\n",
      "If you intended to run this layer in float32, you can safely ignore this warning. If in doubt, this warning is likely only an issue if you are porting a TensorFlow 1.X model to TensorFlow 2.\n",
      "\n",
      "To change all layers to have dtype float64 by default, call `tf.keras.backend.set_floatx('float64')`. To change just this layer, pass dtype='float64' to the layer constructor. If you are the author of this layer, you can disable autocasting by passing autocast=False to the base Layer constructor.\n",
      "\n"
     ]
    }
   ],
   "source": [
    "real_images = np.load(\"/home/etheredge/Workspace/tcvae/data/imgs_trainVAE.npy\")\n",
    "with tf.device(\"GPU:0\"):\n",
    "        z = embed_images(real_images)\n",
    "        x_hat = reconstruct_images(z)\n",
    "        likelihood = sample_likelihood(real_images, x_hat)"
   ]
  },
  {
   "cell_type": "code",
   "execution_count": null,
   "metadata": {},
   "outputs": [],
   "source": [
    "def make_traversal_from_sample(model, z, n_samples=1, num_steps=11, sample_id=0):\n",
    "    output_folder = os.path.join(image_output_folder, 'explore_latents/blender')\n",
    "\n",
    "    multipliers = np.linspace(-2,2,num=num_steps)\n",
    "    encoded_sample = [z_i[sample_id] for z_i in z]\n",
    "\n",
    "    for z_i in range(4):\n",
    "#         image_container = Image.new('RGB', (256*num_steps,256*latent_size))\n",
    "        for z_i_j in range(latent_size):\n",
    "            for s in range(num_steps):\n",
    "                sample = [np.array([encoded_sample[0].numpy()]),\n",
    "                      np.array([encoded_sample[1].numpy()]),\n",
    "                      np.array([encoded_sample[2].numpy()]),\n",
    "                      np.array([encoded_sample[3].numpy()])]\n",
    "                \n",
    "                sample[z_i][0][z_i_j] = multipliers[s]\n",
    "                generated = model.get_layer('decoder').predict(sample, batch_size=1)\n",
    "                generated = generated.reshape((256, 256,3))\n",
    "                img = 255 * np.array(generated)\n",
    "                img = img.astype(np.uint8)\n",
    "#                 image_container.paste(Image.fromarray(img.astype('uint8')), (s*256, z_i_j*256))\n",
    "                image_container.save(os.path.join(output_folder,'{}sample{}.jpg'.format(sample_id, z_i)))\n",
    "\n"
   ]
  },
  {
   "cell_type": "code",
   "execution_count": null,
   "metadata": {},
   "outputs": [],
   "source": [
    "make_traversal_from_sample(vae, z, sample_id=230)"
   ]
  }
 ],
 "metadata": {
  "kernelspec": {
   "display_name": "Python 3",
   "language": "python",
   "name": "python3"
  },
  "language_info": {
   "codemirror_mode": {
    "name": "ipython",
    "version": 3
   },
   "file_extension": ".py",
   "mimetype": "text/x-python",
   "name": "python",
   "nbconvert_exporter": "python",
   "pygments_lexer": "ipython3",
   "version": "3.7.6"
  }
 },
 "nbformat": 4,
 "nbformat_minor": 4
}
